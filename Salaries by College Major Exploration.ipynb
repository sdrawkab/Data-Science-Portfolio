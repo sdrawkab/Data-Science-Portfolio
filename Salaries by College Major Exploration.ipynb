{
 "cells": [
  {
   "cell_type": "markdown",
   "metadata": {},
   "source": [
    "**DSE200x Final Project: Exploring Salaries by College Major**"
   ]
  },
  {
   "cell_type": "markdown",
   "metadata": {},
   "source": [
    "**By Brian Mahaffey**"
   ]
  },
  {
   "cell_type": "markdown",
   "metadata": {},
   "source": [
    "This analysis is based on the dataset \"Where it Pays to Attend College\" available at https://www.kaggle.com/wsj/college-salaries and provided by The Wall Street Journal. "
   ]
  },
  {
   "cell_type": "markdown",
   "metadata": {},
   "source": [
    "There are 3 separate csv files with information on salaries based on college, region, and academic major."
   ]
  },
  {
   "cell_type": "markdown",
   "metadata": {},
   "source": [
    "**1: Import all necessary libraries:**"
   ]
  },
  {
   "cell_type": "code",
   "execution_count": 79,
   "metadata": {},
   "outputs": [],
   "source": [
    "import numpy as np\n",
    "import pandas as pd\n",
    "import matplotlib\n",
    "from matplotlib import pyplot as plt\n",
    "%matplotlib inline"
   ]
  },
  {
   "cell_type": "markdown",
   "metadata": {},
   "source": [
    "Import Plotly libraries for better visualizations after adding to conda:"
   ]
  },
  {
   "cell_type": "code",
   "execution_count": 80,
   "metadata": {},
   "outputs": [
    {
     "data": {
      "text/html": [
       "        <script type=\"text/javascript\">\n",
       "        window.PlotlyConfig = {MathJaxConfig: 'local'};\n",
       "        if (window.MathJax) {MathJax.Hub.Config({SVG: {font: \"STIX-Web\"}});}\n",
       "        if (typeof require !== 'undefined') {\n",
       "        require.undef(\"plotly\");\n",
       "        requirejs.config({\n",
       "            paths: {\n",
       "                'plotly': ['https://cdn.plot.ly/plotly-latest.min']\n",
       "            }\n",
       "        });\n",
       "        require(['plotly'], function(Plotly) {\n",
       "            window._Plotly = Plotly;\n",
       "        });\n",
       "        }\n",
       "        </script>\n",
       "        "
      ]
     },
     "metadata": {},
     "output_type": "display_data"
    }
   ],
   "source": [
    "import plotly.offline as py\n",
    "py.init_notebook_mode(connected=True)\n",
    "import plotly.graph_objs as go\n",
    "import plotly.tools as tls\n",
    "import plotly.figure_factory as ff"
   ]
  },
  {
   "cell_type": "code",
   "execution_count": null,
   "metadata": {},
   "outputs": [],
   "source": []
  },
  {
   "cell_type": "markdown",
   "metadata": {},
   "source": [
    "**2: Import Local Datasets**"
   ]
  },
  {
   "cell_type": "code",
   "execution_count": 289,
   "metadata": {},
   "outputs": [],
   "source": [
    "major = pd.read_csv('degrees-that-pay-back.csv')    \n",
    "college = pd.read_csv('salaries-by-college-type.csv') \n",
    "region = pd.read_csv('salaries-by-region.csv')"
   ]
  },
  {
   "cell_type": "code",
   "execution_count": null,
   "metadata": {},
   "outputs": [],
   "source": []
  },
  {
   "cell_type": "code",
   "execution_count": 290,
   "metadata": {},
   "outputs": [
    {
     "data": {
      "text/html": [
       "<div>\n",
       "<style scoped>\n",
       "    .dataframe tbody tr th:only-of-type {\n",
       "        vertical-align: middle;\n",
       "    }\n",
       "\n",
       "    .dataframe tbody tr th {\n",
       "        vertical-align: top;\n",
       "    }\n",
       "\n",
       "    .dataframe thead th {\n",
       "        text-align: right;\n",
       "    }\n",
       "</style>\n",
       "<table border=\"1\" class=\"dataframe\">\n",
       "  <thead>\n",
       "    <tr style=\"text-align: right;\">\n",
       "      <th></th>\n",
       "      <th>Undergraduate Major</th>\n",
       "      <th>Starting Median Salary</th>\n",
       "      <th>Mid-Career Median Salary</th>\n",
       "      <th>Percent change from Starting to Mid-Career Salary</th>\n",
       "      <th>Mid-Career 10th Percentile Salary</th>\n",
       "      <th>Mid-Career 25th Percentile Salary</th>\n",
       "      <th>Mid-Career 75th Percentile Salary</th>\n",
       "      <th>Mid-Career 90th Percentile Salary</th>\n",
       "    </tr>\n",
       "  </thead>\n",
       "  <tbody>\n",
       "    <tr>\n",
       "      <th>0</th>\n",
       "      <td>Accounting</td>\n",
       "      <td>$46,000.00</td>\n",
       "      <td>$77,100.00</td>\n",
       "      <td>67.6</td>\n",
       "      <td>$42,200.00</td>\n",
       "      <td>$56,100.00</td>\n",
       "      <td>$108,000.00</td>\n",
       "      <td>$152,000.00</td>\n",
       "    </tr>\n",
       "    <tr>\n",
       "      <th>1</th>\n",
       "      <td>Aerospace Engineering</td>\n",
       "      <td>$57,700.00</td>\n",
       "      <td>$101,000.00</td>\n",
       "      <td>75.0</td>\n",
       "      <td>$64,300.00</td>\n",
       "      <td>$82,100.00</td>\n",
       "      <td>$127,000.00</td>\n",
       "      <td>$161,000.00</td>\n",
       "    </tr>\n",
       "    <tr>\n",
       "      <th>2</th>\n",
       "      <td>Agriculture</td>\n",
       "      <td>$42,600.00</td>\n",
       "      <td>$71,900.00</td>\n",
       "      <td>68.8</td>\n",
       "      <td>$36,300.00</td>\n",
       "      <td>$52,100.00</td>\n",
       "      <td>$96,300.00</td>\n",
       "      <td>$150,000.00</td>\n",
       "    </tr>\n",
       "    <tr>\n",
       "      <th>3</th>\n",
       "      <td>Anthropology</td>\n",
       "      <td>$36,800.00</td>\n",
       "      <td>$61,500.00</td>\n",
       "      <td>67.1</td>\n",
       "      <td>$33,800.00</td>\n",
       "      <td>$45,500.00</td>\n",
       "      <td>$89,300.00</td>\n",
       "      <td>$138,000.00</td>\n",
       "    </tr>\n",
       "    <tr>\n",
       "      <th>4</th>\n",
       "      <td>Architecture</td>\n",
       "      <td>$41,600.00</td>\n",
       "      <td>$76,800.00</td>\n",
       "      <td>84.6</td>\n",
       "      <td>$50,600.00</td>\n",
       "      <td>$62,200.00</td>\n",
       "      <td>$97,000.00</td>\n",
       "      <td>$136,000.00</td>\n",
       "    </tr>\n",
       "  </tbody>\n",
       "</table>\n",
       "</div>"
      ],
      "text/plain": [
       "     Undergraduate Major Starting Median Salary Mid-Career Median Salary  \\\n",
       "0             Accounting             $46,000.00               $77,100.00   \n",
       "1  Aerospace Engineering             $57,700.00              $101,000.00   \n",
       "2            Agriculture             $42,600.00               $71,900.00   \n",
       "3           Anthropology             $36,800.00               $61,500.00   \n",
       "4           Architecture             $41,600.00               $76,800.00   \n",
       "\n",
       "   Percent change from Starting to Mid-Career Salary  \\\n",
       "0                                               67.6   \n",
       "1                                               75.0   \n",
       "2                                               68.8   \n",
       "3                                               67.1   \n",
       "4                                               84.6   \n",
       "\n",
       "  Mid-Career 10th Percentile Salary Mid-Career 25th Percentile Salary  \\\n",
       "0                        $42,200.00                        $56,100.00   \n",
       "1                        $64,300.00                        $82,100.00   \n",
       "2                        $36,300.00                        $52,100.00   \n",
       "3                        $33,800.00                        $45,500.00   \n",
       "4                        $50,600.00                        $62,200.00   \n",
       "\n",
       "  Mid-Career 75th Percentile Salary Mid-Career 90th Percentile Salary  \n",
       "0                       $108,000.00                       $152,000.00  \n",
       "1                       $127,000.00                       $161,000.00  \n",
       "2                        $96,300.00                       $150,000.00  \n",
       "3                        $89,300.00                       $138,000.00  \n",
       "4                        $97,000.00                       $136,000.00  "
      ]
     },
     "execution_count": 290,
     "metadata": {},
     "output_type": "execute_result"
    }
   ],
   "source": [
    "major.head()"
   ]
  },
  {
   "cell_type": "code",
   "execution_count": 291,
   "metadata": {},
   "outputs": [
    {
     "name": "stdout",
     "output_type": "stream",
     "text": [
      "<class 'pandas.core.frame.DataFrame'>\n",
      "RangeIndex: 50 entries, 0 to 49\n",
      "Data columns (total 8 columns):\n",
      "Undergraduate Major                                  50 non-null object\n",
      "Starting Median Salary                               50 non-null object\n",
      "Mid-Career Median Salary                             50 non-null object\n",
      "Percent change from Starting to Mid-Career Salary    50 non-null float64\n",
      "Mid-Career 10th Percentile Salary                    50 non-null object\n",
      "Mid-Career 25th Percentile Salary                    50 non-null object\n",
      "Mid-Career 75th Percentile Salary                    50 non-null object\n",
      "Mid-Career 90th Percentile Salary                    50 non-null object\n",
      "dtypes: float64(1), object(7)\n",
      "memory usage: 3.2+ KB\n"
     ]
    }
   ],
   "source": [
    "major.info()"
   ]
  },
  {
   "cell_type": "code",
   "execution_count": 292,
   "metadata": {},
   "outputs": [
    {
     "data": {
      "text/html": [
       "<div>\n",
       "<style scoped>\n",
       "    .dataframe tbody tr th:only-of-type {\n",
       "        vertical-align: middle;\n",
       "    }\n",
       "\n",
       "    .dataframe tbody tr th {\n",
       "        vertical-align: top;\n",
       "    }\n",
       "\n",
       "    .dataframe thead th {\n",
       "        text-align: right;\n",
       "    }\n",
       "</style>\n",
       "<table border=\"1\" class=\"dataframe\">\n",
       "  <thead>\n",
       "    <tr style=\"text-align: right;\">\n",
       "      <th></th>\n",
       "      <th>School Name</th>\n",
       "      <th>School Type</th>\n",
       "      <th>Starting Median Salary</th>\n",
       "      <th>Mid-Career Median Salary</th>\n",
       "      <th>Mid-Career 10th Percentile Salary</th>\n",
       "      <th>Mid-Career 25th Percentile Salary</th>\n",
       "      <th>Mid-Career 75th Percentile Salary</th>\n",
       "      <th>Mid-Career 90th Percentile Salary</th>\n",
       "    </tr>\n",
       "  </thead>\n",
       "  <tbody>\n",
       "    <tr>\n",
       "      <th>0</th>\n",
       "      <td>Massachusetts Institute of Technology (MIT)</td>\n",
       "      <td>Engineering</td>\n",
       "      <td>$72,200.00</td>\n",
       "      <td>$126,000.00</td>\n",
       "      <td>$76,800.00</td>\n",
       "      <td>$99,200.00</td>\n",
       "      <td>$168,000.00</td>\n",
       "      <td>$220,000.00</td>\n",
       "    </tr>\n",
       "    <tr>\n",
       "      <th>1</th>\n",
       "      <td>California Institute of Technology (CIT)</td>\n",
       "      <td>Engineering</td>\n",
       "      <td>$75,500.00</td>\n",
       "      <td>$123,000.00</td>\n",
       "      <td>NaN</td>\n",
       "      <td>$104,000.00</td>\n",
       "      <td>$161,000.00</td>\n",
       "      <td>NaN</td>\n",
       "    </tr>\n",
       "    <tr>\n",
       "      <th>2</th>\n",
       "      <td>Harvey Mudd College</td>\n",
       "      <td>Engineering</td>\n",
       "      <td>$71,800.00</td>\n",
       "      <td>$122,000.00</td>\n",
       "      <td>NaN</td>\n",
       "      <td>$96,000.00</td>\n",
       "      <td>$180,000.00</td>\n",
       "      <td>NaN</td>\n",
       "    </tr>\n",
       "    <tr>\n",
       "      <th>3</th>\n",
       "      <td>Polytechnic University of New York, Brooklyn</td>\n",
       "      <td>Engineering</td>\n",
       "      <td>$62,400.00</td>\n",
       "      <td>$114,000.00</td>\n",
       "      <td>$66,800.00</td>\n",
       "      <td>$94,300.00</td>\n",
       "      <td>$143,000.00</td>\n",
       "      <td>$190,000.00</td>\n",
       "    </tr>\n",
       "    <tr>\n",
       "      <th>4</th>\n",
       "      <td>Cooper Union</td>\n",
       "      <td>Engineering</td>\n",
       "      <td>$62,200.00</td>\n",
       "      <td>$114,000.00</td>\n",
       "      <td>NaN</td>\n",
       "      <td>$80,200.00</td>\n",
       "      <td>$142,000.00</td>\n",
       "      <td>NaN</td>\n",
       "    </tr>\n",
       "  </tbody>\n",
       "</table>\n",
       "</div>"
      ],
      "text/plain": [
       "                                    School Name  School Type  \\\n",
       "0   Massachusetts Institute of Technology (MIT)  Engineering   \n",
       "1      California Institute of Technology (CIT)  Engineering   \n",
       "2                           Harvey Mudd College  Engineering   \n",
       "3  Polytechnic University of New York, Brooklyn  Engineering   \n",
       "4                                  Cooper Union  Engineering   \n",
       "\n",
       "  Starting Median Salary Mid-Career Median Salary  \\\n",
       "0             $72,200.00              $126,000.00   \n",
       "1             $75,500.00              $123,000.00   \n",
       "2             $71,800.00              $122,000.00   \n",
       "3             $62,400.00              $114,000.00   \n",
       "4             $62,200.00              $114,000.00   \n",
       "\n",
       "  Mid-Career 10th Percentile Salary Mid-Career 25th Percentile Salary  \\\n",
       "0                        $76,800.00                        $99,200.00   \n",
       "1                               NaN                       $104,000.00   \n",
       "2                               NaN                        $96,000.00   \n",
       "3                        $66,800.00                        $94,300.00   \n",
       "4                               NaN                        $80,200.00   \n",
       "\n",
       "  Mid-Career 75th Percentile Salary Mid-Career 90th Percentile Salary  \n",
       "0                       $168,000.00                       $220,000.00  \n",
       "1                       $161,000.00                               NaN  \n",
       "2                       $180,000.00                               NaN  \n",
       "3                       $143,000.00                       $190,000.00  \n",
       "4                       $142,000.00                               NaN  "
      ]
     },
     "execution_count": 292,
     "metadata": {},
     "output_type": "execute_result"
    }
   ],
   "source": [
    "college.head()"
   ]
  },
  {
   "cell_type": "code",
   "execution_count": 293,
   "metadata": {},
   "outputs": [
    {
     "name": "stdout",
     "output_type": "stream",
     "text": [
      "<class 'pandas.core.frame.DataFrame'>\n",
      "RangeIndex: 269 entries, 0 to 268\n",
      "Data columns (total 8 columns):\n",
      "School Name                          269 non-null object\n",
      "School Type                          269 non-null object\n",
      "Starting Median Salary               269 non-null object\n",
      "Mid-Career Median Salary             269 non-null object\n",
      "Mid-Career 10th Percentile Salary    231 non-null object\n",
      "Mid-Career 25th Percentile Salary    269 non-null object\n",
      "Mid-Career 75th Percentile Salary    269 non-null object\n",
      "Mid-Career 90th Percentile Salary    231 non-null object\n",
      "dtypes: object(8)\n",
      "memory usage: 16.9+ KB\n"
     ]
    }
   ],
   "source": [
    "college.info()"
   ]
  },
  {
   "cell_type": "code",
   "execution_count": 294,
   "metadata": {},
   "outputs": [
    {
     "data": {
      "text/html": [
       "<div>\n",
       "<style scoped>\n",
       "    .dataframe tbody tr th:only-of-type {\n",
       "        vertical-align: middle;\n",
       "    }\n",
       "\n",
       "    .dataframe tbody tr th {\n",
       "        vertical-align: top;\n",
       "    }\n",
       "\n",
       "    .dataframe thead th {\n",
       "        text-align: right;\n",
       "    }\n",
       "</style>\n",
       "<table border=\"1\" class=\"dataframe\">\n",
       "  <thead>\n",
       "    <tr style=\"text-align: right;\">\n",
       "      <th></th>\n",
       "      <th>School Name</th>\n",
       "      <th>Region</th>\n",
       "      <th>Starting Median Salary</th>\n",
       "      <th>Mid-Career Median Salary</th>\n",
       "      <th>Mid-Career 10th Percentile Salary</th>\n",
       "      <th>Mid-Career 25th Percentile Salary</th>\n",
       "      <th>Mid-Career 75th Percentile Salary</th>\n",
       "      <th>Mid-Career 90th Percentile Salary</th>\n",
       "      <th>CPI</th>\n",
       "    </tr>\n",
       "  </thead>\n",
       "  <tbody>\n",
       "    <tr>\n",
       "      <th>0</th>\n",
       "      <td>Stanford University</td>\n",
       "      <td>California</td>\n",
       "      <td>$70,400.00</td>\n",
       "      <td>$129,000.00</td>\n",
       "      <td>$68,400.00</td>\n",
       "      <td>$93,100.00</td>\n",
       "      <td>$184,000.00</td>\n",
       "      <td>$257,000.00</td>\n",
       "      <td>272.51</td>\n",
       "    </tr>\n",
       "    <tr>\n",
       "      <th>1</th>\n",
       "      <td>California Institute of Technology (CIT)</td>\n",
       "      <td>California</td>\n",
       "      <td>$75,500.00</td>\n",
       "      <td>$123,000.00</td>\n",
       "      <td>NaN</td>\n",
       "      <td>$104,000.00</td>\n",
       "      <td>$161,000.00</td>\n",
       "      <td>NaN</td>\n",
       "      <td>272.51</td>\n",
       "    </tr>\n",
       "    <tr>\n",
       "      <th>2</th>\n",
       "      <td>Harvey Mudd College</td>\n",
       "      <td>California</td>\n",
       "      <td>$71,800.00</td>\n",
       "      <td>$122,000.00</td>\n",
       "      <td>NaN</td>\n",
       "      <td>$96,000.00</td>\n",
       "      <td>$180,000.00</td>\n",
       "      <td>NaN</td>\n",
       "      <td>272.51</td>\n",
       "    </tr>\n",
       "    <tr>\n",
       "      <th>3</th>\n",
       "      <td>University of California, Berkeley</td>\n",
       "      <td>California</td>\n",
       "      <td>$59,900.00</td>\n",
       "      <td>$112,000.00</td>\n",
       "      <td>$59,500.00</td>\n",
       "      <td>$81,000.00</td>\n",
       "      <td>$149,000.00</td>\n",
       "      <td>$201,000.00</td>\n",
       "      <td>272.51</td>\n",
       "    </tr>\n",
       "    <tr>\n",
       "      <th>4</th>\n",
       "      <td>Occidental College</td>\n",
       "      <td>California</td>\n",
       "      <td>$51,900.00</td>\n",
       "      <td>$105,000.00</td>\n",
       "      <td>NaN</td>\n",
       "      <td>$54,800.00</td>\n",
       "      <td>$157,000.00</td>\n",
       "      <td>NaN</td>\n",
       "      <td>272.51</td>\n",
       "    </tr>\n",
       "  </tbody>\n",
       "</table>\n",
       "</div>"
      ],
      "text/plain": [
       "                                School Name      Region  \\\n",
       "0                       Stanford University  California   \n",
       "1  California Institute of Technology (CIT)  California   \n",
       "2                       Harvey Mudd College  California   \n",
       "3        University of California, Berkeley  California   \n",
       "4                        Occidental College  California   \n",
       "\n",
       "  Starting Median Salary Mid-Career Median Salary  \\\n",
       "0            $70,400.00              $129,000.00    \n",
       "1            $75,500.00              $123,000.00    \n",
       "2            $71,800.00              $122,000.00    \n",
       "3            $59,900.00              $112,000.00    \n",
       "4            $51,900.00              $105,000.00    \n",
       "\n",
       "  Mid-Career 10th Percentile Salary Mid-Career 25th Percentile Salary  \\\n",
       "0                       $68,400.00                        $93,100.00    \n",
       "1                               NaN                      $104,000.00    \n",
       "2                               NaN                       $96,000.00    \n",
       "3                       $59,500.00                        $81,000.00    \n",
       "4                               NaN                       $54,800.00    \n",
       "\n",
       "  Mid-Career 75th Percentile Salary Mid-Career 90th Percentile Salary     CPI  \n",
       "0                      $184,000.00                       $257,000.00   272.51  \n",
       "1                      $161,000.00                                NaN  272.51  \n",
       "2                      $180,000.00                                NaN  272.51  \n",
       "3                      $149,000.00                       $201,000.00   272.51  \n",
       "4                      $157,000.00                                NaN  272.51  "
      ]
     },
     "execution_count": 294,
     "metadata": {},
     "output_type": "execute_result"
    }
   ],
   "source": [
    "region.head()"
   ]
  },
  {
   "cell_type": "code",
   "execution_count": 295,
   "metadata": {},
   "outputs": [
    {
     "name": "stdout",
     "output_type": "stream",
     "text": [
      "<class 'pandas.core.frame.DataFrame'>\n",
      "RangeIndex: 320 entries, 0 to 319\n",
      "Data columns (total 9 columns):\n",
      "School Name                          320 non-null object\n",
      "Region                               320 non-null object\n",
      "Starting Median Salary               320 non-null object\n",
      "Mid-Career Median Salary             320 non-null object\n",
      "Mid-Career 10th Percentile Salary    273 non-null object\n",
      "Mid-Career 25th Percentile Salary    320 non-null object\n",
      "Mid-Career 75th Percentile Salary    320 non-null object\n",
      "Mid-Career 90th Percentile Salary    273 non-null object\n",
      "CPI                                  320 non-null float64\n",
      "dtypes: float64(1), object(8)\n",
      "memory usage: 22.6+ KB\n"
     ]
    }
   ],
   "source": [
    "region.info()"
   ]
  },
  {
   "cell_type": "code",
   "execution_count": 296,
   "metadata": {
    "scrolled": true
   },
   "outputs": [
    {
     "data": {
      "text/html": [
       "<div>\n",
       "<style scoped>\n",
       "    .dataframe tbody tr th:only-of-type {\n",
       "        vertical-align: middle;\n",
       "    }\n",
       "\n",
       "    .dataframe tbody tr th {\n",
       "        vertical-align: top;\n",
       "    }\n",
       "\n",
       "    .dataframe thead th {\n",
       "        text-align: right;\n",
       "    }\n",
       "</style>\n",
       "<table border=\"1\" class=\"dataframe\">\n",
       "  <thead>\n",
       "    <tr style=\"text-align: right;\">\n",
       "      <th></th>\n",
       "      <th>CPI</th>\n",
       "      <th>Year</th>\n",
       "      <th>Region</th>\n",
       "    </tr>\n",
       "  </thead>\n",
       "  <tbody>\n",
       "    <tr>\n",
       "      <th>0</th>\n",
       "      <td>272.510</td>\n",
       "      <td>2018</td>\n",
       "      <td>California</td>\n",
       "    </tr>\n",
       "    <tr>\n",
       "      <th>1</th>\n",
       "      <td>265.139</td>\n",
       "      <td>2018</td>\n",
       "      <td>Northeastern</td>\n",
       "    </tr>\n",
       "    <tr>\n",
       "      <th>2</th>\n",
       "      <td>234.290</td>\n",
       "      <td>2018</td>\n",
       "      <td>Midwestern</td>\n",
       "    </tr>\n",
       "    <tr>\n",
       "      <th>3</th>\n",
       "      <td>242.737</td>\n",
       "      <td>2018</td>\n",
       "      <td>Southern</td>\n",
       "    </tr>\n",
       "    <tr>\n",
       "      <th>4</th>\n",
       "      <td>263.263</td>\n",
       "      <td>2018</td>\n",
       "      <td>Western</td>\n",
       "    </tr>\n",
       "  </tbody>\n",
       "</table>\n",
       "</div>"
      ],
      "text/plain": [
       "       CPI  Year        Region\n",
       "0  272.510  2018    California\n",
       "1  265.139  2018  Northeastern\n",
       "2  234.290  2018    Midwestern\n",
       "3  242.737  2018      Southern\n",
       "4  263.263  2018       Western"
      ]
     },
     "execution_count": 296,
     "metadata": {},
     "output_type": "execute_result"
    }
   ],
   "source": [
    "cpi.head()"
   ]
  },
  {
   "cell_type": "markdown",
   "metadata": {},
   "source": [
    "**Data Cleaning & Preparation**"
   ]
  },
  {
   "cell_type": "markdown",
   "metadata": {},
   "source": [
    "We can see that the data is formatted well for the most part. There are some missing entries for which we will remove the rows."
   ]
  },
  {
   "cell_type": "markdown",
   "metadata": {},
   "source": [
    "The '$' symbols look like the numbers are strings, not ints or floats...let's check"
   ]
  },
  {
   "cell_type": "code",
   "execution_count": 297,
   "metadata": {},
   "outputs": [
    {
     "data": {
      "text/plain": [
       "str"
      ]
     },
     "execution_count": 297,
     "metadata": {},
     "output_type": "execute_result"
    }
   ],
   "source": [
    "type(college['Starting Median Salary'][1])"
   ]
  },
  {
   "cell_type": "markdown",
   "metadata": {},
   "source": [
    "The data are strings: let's convert to floats:"
   ]
  },
  {
   "cell_type": "markdown",
   "metadata": {},
   "source": [
    "But first, let's manipulate the column names to be easier to work with for all three dataframes:"
   ]
  },
  {
   "cell_type": "code",
   "execution_count": 298,
   "metadata": {},
   "outputs": [],
   "source": [
    "dataframe_list = [major, college, region]"
   ]
  },
  {
   "cell_type": "code",
   "execution_count": 299,
   "metadata": {},
   "outputs": [],
   "source": [
    "college_columns = {\n",
    "    \"School Name\" : \"school\",\n",
    "    \"School Type\" : \"type\",\n",
    "    \"Starting Median Salary\" : \"start_med\",\n",
    "    \"Mid-Career Median Salary\" : \"mid_med\",\n",
    "    \"Mid-Career 10th Percentile Salary\" : \"mid_10\",\n",
    "    \"Mid-Career 25th Percentile Salary\" : \"mid_25\",\n",
    "    \"Mid-Career 75th Percentile Salary\" : \"mid_75\",\n",
    "    \"Mid-Career 90th Percentile Salary\" : \"mid_90\"\n",
    "}\n",
    "\n",
    "college.rename(columns=college_columns, inplace=True)\n",
    "\n",
    "region_columns = {\n",
    "    \"School Name\" : \"school\",\n",
    "    \"Region\" : \"region\",\n",
    "    \"Starting Median Salary\" : \"start_med\",\n",
    "    \"Mid-Career Median Salary\" : \"mid_med\",\n",
    "    \"Mid-Career 10th Percentile Salary\" : \"mid_10\",\n",
    "    \"Mid-Career 25th Percentile Salary\" : \"mid_25\",\n",
    "    \"Mid-Career 75th Percentile Salary\" : \"mid_75\",\n",
    "    \"Mid-Career 90th Percentile Salary\" : \"mid_90\",\n",
    "    'CPI' : 'CPI'\n",
    "}\n",
    "\n",
    "region.rename(columns=region_columns, inplace=True)\n",
    "\n",
    "major_columns = {\n",
    "    \"Undergraduate Major\" : \"major\",\n",
    "    \"Starting Median Salary\" : \"start_med\",\n",
    "    \"Mid-Career Median Salary\" : \"mid_med\",\n",
    "    \"Percent change from Starting to Mid-Career Salary\" : \"increase\",\n",
    "    \"Mid-Career 10th Percentile Salary\" : \"mid_10\",\n",
    "    \"Mid-Career 25th Percentile Salary\" : \"mid_25\",\n",
    "    \"Mid-Career 75th Percentile Salary\" : \"mid_75\",\n",
    "    \"Mid-Career 90th Percentile Salary\" : \"mid_90\"\n",
    "}\n",
    "\n",
    "major.rename(columns=major_columns, inplace=True)"
   ]
  },
  {
   "cell_type": "code",
   "execution_count": null,
   "metadata": {},
   "outputs": [],
   "source": []
  },
  {
   "cell_type": "code",
   "execution_count": 300,
   "metadata": {},
   "outputs": [
    {
     "data": {
      "text/html": [
       "<div>\n",
       "<style scoped>\n",
       "    .dataframe tbody tr th:only-of-type {\n",
       "        vertical-align: middle;\n",
       "    }\n",
       "\n",
       "    .dataframe tbody tr th {\n",
       "        vertical-align: top;\n",
       "    }\n",
       "\n",
       "    .dataframe thead th {\n",
       "        text-align: right;\n",
       "    }\n",
       "</style>\n",
       "<table border=\"1\" class=\"dataframe\">\n",
       "  <thead>\n",
       "    <tr style=\"text-align: right;\">\n",
       "      <th></th>\n",
       "      <th>major</th>\n",
       "      <th>start_med</th>\n",
       "      <th>mid_med</th>\n",
       "      <th>increase</th>\n",
       "      <th>mid_10</th>\n",
       "      <th>mid_25</th>\n",
       "      <th>mid_75</th>\n",
       "      <th>mid_90</th>\n",
       "    </tr>\n",
       "  </thead>\n",
       "  <tbody>\n",
       "    <tr>\n",
       "      <th>0</th>\n",
       "      <td>Accounting</td>\n",
       "      <td>$46,000.00</td>\n",
       "      <td>$77,100.00</td>\n",
       "      <td>67.6</td>\n",
       "      <td>$42,200.00</td>\n",
       "      <td>$56,100.00</td>\n",
       "      <td>$108,000.00</td>\n",
       "      <td>$152,000.00</td>\n",
       "    </tr>\n",
       "    <tr>\n",
       "      <th>1</th>\n",
       "      <td>Aerospace Engineering</td>\n",
       "      <td>$57,700.00</td>\n",
       "      <td>$101,000.00</td>\n",
       "      <td>75.0</td>\n",
       "      <td>$64,300.00</td>\n",
       "      <td>$82,100.00</td>\n",
       "      <td>$127,000.00</td>\n",
       "      <td>$161,000.00</td>\n",
       "    </tr>\n",
       "    <tr>\n",
       "      <th>2</th>\n",
       "      <td>Agriculture</td>\n",
       "      <td>$42,600.00</td>\n",
       "      <td>$71,900.00</td>\n",
       "      <td>68.8</td>\n",
       "      <td>$36,300.00</td>\n",
       "      <td>$52,100.00</td>\n",
       "      <td>$96,300.00</td>\n",
       "      <td>$150,000.00</td>\n",
       "    </tr>\n",
       "    <tr>\n",
       "      <th>3</th>\n",
       "      <td>Anthropology</td>\n",
       "      <td>$36,800.00</td>\n",
       "      <td>$61,500.00</td>\n",
       "      <td>67.1</td>\n",
       "      <td>$33,800.00</td>\n",
       "      <td>$45,500.00</td>\n",
       "      <td>$89,300.00</td>\n",
       "      <td>$138,000.00</td>\n",
       "    </tr>\n",
       "    <tr>\n",
       "      <th>4</th>\n",
       "      <td>Architecture</td>\n",
       "      <td>$41,600.00</td>\n",
       "      <td>$76,800.00</td>\n",
       "      <td>84.6</td>\n",
       "      <td>$50,600.00</td>\n",
       "      <td>$62,200.00</td>\n",
       "      <td>$97,000.00</td>\n",
       "      <td>$136,000.00</td>\n",
       "    </tr>\n",
       "  </tbody>\n",
       "</table>\n",
       "</div>"
      ],
      "text/plain": [
       "                   major   start_med      mid_med  increase      mid_10  \\\n",
       "0             Accounting  $46,000.00   $77,100.00      67.6  $42,200.00   \n",
       "1  Aerospace Engineering  $57,700.00  $101,000.00      75.0  $64,300.00   \n",
       "2            Agriculture  $42,600.00   $71,900.00      68.8  $36,300.00   \n",
       "3           Anthropology  $36,800.00   $61,500.00      67.1  $33,800.00   \n",
       "4           Architecture  $41,600.00   $76,800.00      84.6  $50,600.00   \n",
       "\n",
       "       mid_25       mid_75       mid_90  \n",
       "0  $56,100.00  $108,000.00  $152,000.00  \n",
       "1  $82,100.00  $127,000.00  $161,000.00  \n",
       "2  $52,100.00   $96,300.00  $150,000.00  \n",
       "3  $45,500.00   $89,300.00  $138,000.00  \n",
       "4  $62,200.00   $97,000.00  $136,000.00  "
      ]
     },
     "execution_count": 300,
     "metadata": {},
     "output_type": "execute_result"
    }
   ],
   "source": [
    "major.head()"
   ]
  },
  {
   "cell_type": "markdown",
   "metadata": {},
   "source": [
    "Now we'll remove the $ and , and convert to floats"
   ]
  },
  {
   "cell_type": "code",
   "execution_count": null,
   "metadata": {},
   "outputs": [],
   "source": []
  },
  {
   "cell_type": "code",
   "execution_count": 301,
   "metadata": {},
   "outputs": [],
   "source": [
    "selected_columns = [\"start_med\", \"mid_med\", \"mid_10\", \"mid_25\", \"mid_75\", \"mid_90\"]\n",
    "\n",
    "for dataframe in dataframe_list:\n",
    "    for column in selected_columns:\n",
    "        dataframe[column] = dataframe[column].str.replace(\"$\",\"\")\n",
    "        dataframe[column] = dataframe[column].str.replace(\",\",\"\")\n",
    "        dataframe[column] = pd.to_numeric(dataframe[column])"
   ]
  },
  {
   "cell_type": "code",
   "execution_count": 302,
   "metadata": {},
   "outputs": [
    {
     "data": {
      "text/html": [
       "<div>\n",
       "<style scoped>\n",
       "    .dataframe tbody tr th:only-of-type {\n",
       "        vertical-align: middle;\n",
       "    }\n",
       "\n",
       "    .dataframe tbody tr th {\n",
       "        vertical-align: top;\n",
       "    }\n",
       "\n",
       "    .dataframe thead th {\n",
       "        text-align: right;\n",
       "    }\n",
       "</style>\n",
       "<table border=\"1\" class=\"dataframe\">\n",
       "  <thead>\n",
       "    <tr style=\"text-align: right;\">\n",
       "      <th></th>\n",
       "      <th>major</th>\n",
       "      <th>start_med</th>\n",
       "      <th>mid_med</th>\n",
       "      <th>increase</th>\n",
       "      <th>mid_10</th>\n",
       "      <th>mid_25</th>\n",
       "      <th>mid_75</th>\n",
       "      <th>mid_90</th>\n",
       "    </tr>\n",
       "  </thead>\n",
       "  <tbody>\n",
       "    <tr>\n",
       "      <th>0</th>\n",
       "      <td>Accounting</td>\n",
       "      <td>46000.0</td>\n",
       "      <td>77100.0</td>\n",
       "      <td>67.6</td>\n",
       "      <td>42200.0</td>\n",
       "      <td>56100.0</td>\n",
       "      <td>108000.0</td>\n",
       "      <td>152000.0</td>\n",
       "    </tr>\n",
       "    <tr>\n",
       "      <th>1</th>\n",
       "      <td>Aerospace Engineering</td>\n",
       "      <td>57700.0</td>\n",
       "      <td>101000.0</td>\n",
       "      <td>75.0</td>\n",
       "      <td>64300.0</td>\n",
       "      <td>82100.0</td>\n",
       "      <td>127000.0</td>\n",
       "      <td>161000.0</td>\n",
       "    </tr>\n",
       "    <tr>\n",
       "      <th>2</th>\n",
       "      <td>Agriculture</td>\n",
       "      <td>42600.0</td>\n",
       "      <td>71900.0</td>\n",
       "      <td>68.8</td>\n",
       "      <td>36300.0</td>\n",
       "      <td>52100.0</td>\n",
       "      <td>96300.0</td>\n",
       "      <td>150000.0</td>\n",
       "    </tr>\n",
       "    <tr>\n",
       "      <th>3</th>\n",
       "      <td>Anthropology</td>\n",
       "      <td>36800.0</td>\n",
       "      <td>61500.0</td>\n",
       "      <td>67.1</td>\n",
       "      <td>33800.0</td>\n",
       "      <td>45500.0</td>\n",
       "      <td>89300.0</td>\n",
       "      <td>138000.0</td>\n",
       "    </tr>\n",
       "    <tr>\n",
       "      <th>4</th>\n",
       "      <td>Architecture</td>\n",
       "      <td>41600.0</td>\n",
       "      <td>76800.0</td>\n",
       "      <td>84.6</td>\n",
       "      <td>50600.0</td>\n",
       "      <td>62200.0</td>\n",
       "      <td>97000.0</td>\n",
       "      <td>136000.0</td>\n",
       "    </tr>\n",
       "  </tbody>\n",
       "</table>\n",
       "</div>"
      ],
      "text/plain": [
       "                   major  start_med   mid_med  increase   mid_10   mid_25  \\\n",
       "0             Accounting    46000.0   77100.0      67.6  42200.0  56100.0   \n",
       "1  Aerospace Engineering    57700.0  101000.0      75.0  64300.0  82100.0   \n",
       "2            Agriculture    42600.0   71900.0      68.8  36300.0  52100.0   \n",
       "3           Anthropology    36800.0   61500.0      67.1  33800.0  45500.0   \n",
       "4           Architecture    41600.0   76800.0      84.6  50600.0  62200.0   \n",
       "\n",
       "     mid_75    mid_90  \n",
       "0  108000.0  152000.0  \n",
       "1  127000.0  161000.0  \n",
       "2   96300.0  150000.0  \n",
       "3   89300.0  138000.0  \n",
       "4   97000.0  136000.0  "
      ]
     },
     "execution_count": 302,
     "metadata": {},
     "output_type": "execute_result"
    }
   ],
   "source": [
    "major.head()"
   ]
  },
  {
   "cell_type": "code",
   "execution_count": 303,
   "metadata": {},
   "outputs": [
    {
     "data": {
      "text/plain": [
       "numpy.float64"
      ]
     },
     "execution_count": 303,
     "metadata": {},
     "output_type": "execute_result"
    }
   ],
   "source": [
    "type(major['start_med'][1])"
   ]
  },
  {
   "cell_type": "markdown",
   "metadata": {},
   "source": [
    "Good, now we have numeric data which we can analyze"
   ]
  },
  {
   "cell_type": "code",
   "execution_count": 304,
   "metadata": {},
   "outputs": [
    {
     "data": {
      "text/html": [
       "<div>\n",
       "<style scoped>\n",
       "    .dataframe tbody tr th:only-of-type {\n",
       "        vertical-align: middle;\n",
       "    }\n",
       "\n",
       "    .dataframe tbody tr th {\n",
       "        vertical-align: top;\n",
       "    }\n",
       "\n",
       "    .dataframe thead th {\n",
       "        text-align: right;\n",
       "    }\n",
       "</style>\n",
       "<table border=\"1\" class=\"dataframe\">\n",
       "  <thead>\n",
       "    <tr style=\"text-align: right;\">\n",
       "      <th></th>\n",
       "      <th>start_med</th>\n",
       "      <th>mid_med</th>\n",
       "      <th>mid_10</th>\n",
       "      <th>mid_25</th>\n",
       "      <th>mid_75</th>\n",
       "      <th>mid_90</th>\n",
       "    </tr>\n",
       "  </thead>\n",
       "  <tbody>\n",
       "    <tr>\n",
       "      <th>count</th>\n",
       "      <td>269.000000</td>\n",
       "      <td>269.000000</td>\n",
       "      <td>231.000000</td>\n",
       "      <td>269.000000</td>\n",
       "      <td>269.000000</td>\n",
       "      <td>231.000000</td>\n",
       "    </tr>\n",
       "    <tr>\n",
       "      <th>mean</th>\n",
       "      <td>46068.401487</td>\n",
       "      <td>83932.342007</td>\n",
       "      <td>44250.649351</td>\n",
       "      <td>60373.234201</td>\n",
       "      <td>116275.092937</td>\n",
       "      <td>157705.627706</td>\n",
       "    </tr>\n",
       "    <tr>\n",
       "      <th>std</th>\n",
       "      <td>6412.616242</td>\n",
       "      <td>14336.191107</td>\n",
       "      <td>8719.612427</td>\n",
       "      <td>11381.348857</td>\n",
       "      <td>22952.334054</td>\n",
       "      <td>34823.348157</td>\n",
       "    </tr>\n",
       "    <tr>\n",
       "      <th>min</th>\n",
       "      <td>34800.000000</td>\n",
       "      <td>43900.000000</td>\n",
       "      <td>22600.000000</td>\n",
       "      <td>31800.000000</td>\n",
       "      <td>60900.000000</td>\n",
       "      <td>87600.000000</td>\n",
       "    </tr>\n",
       "    <tr>\n",
       "      <th>25%</th>\n",
       "      <td>42000.000000</td>\n",
       "      <td>74000.000000</td>\n",
       "      <td>39000.000000</td>\n",
       "      <td>53200.000000</td>\n",
       "      <td>100000.000000</td>\n",
       "      <td>136000.000000</td>\n",
       "    </tr>\n",
       "    <tr>\n",
       "      <th>50%</th>\n",
       "      <td>44700.000000</td>\n",
       "      <td>81600.000000</td>\n",
       "      <td>43100.000000</td>\n",
       "      <td>58400.000000</td>\n",
       "      <td>113000.000000</td>\n",
       "      <td>153000.000000</td>\n",
       "    </tr>\n",
       "    <tr>\n",
       "      <th>75%</th>\n",
       "      <td>48300.000000</td>\n",
       "      <td>92200.000000</td>\n",
       "      <td>47400.000000</td>\n",
       "      <td>65100.000000</td>\n",
       "      <td>126000.000000</td>\n",
       "      <td>170500.000000</td>\n",
       "    </tr>\n",
       "    <tr>\n",
       "      <th>max</th>\n",
       "      <td>75500.000000</td>\n",
       "      <td>134000.000000</td>\n",
       "      <td>80000.000000</td>\n",
       "      <td>104000.000000</td>\n",
       "      <td>234000.000000</td>\n",
       "      <td>326000.000000</td>\n",
       "    </tr>\n",
       "  </tbody>\n",
       "</table>\n",
       "</div>"
      ],
      "text/plain": [
       "          start_med        mid_med        mid_10         mid_25  \\\n",
       "count    269.000000     269.000000    231.000000     269.000000   \n",
       "mean   46068.401487   83932.342007  44250.649351   60373.234201   \n",
       "std     6412.616242   14336.191107   8719.612427   11381.348857   \n",
       "min    34800.000000   43900.000000  22600.000000   31800.000000   \n",
       "25%    42000.000000   74000.000000  39000.000000   53200.000000   \n",
       "50%    44700.000000   81600.000000  43100.000000   58400.000000   \n",
       "75%    48300.000000   92200.000000  47400.000000   65100.000000   \n",
       "max    75500.000000  134000.000000  80000.000000  104000.000000   \n",
       "\n",
       "              mid_75         mid_90  \n",
       "count     269.000000     231.000000  \n",
       "mean   116275.092937  157705.627706  \n",
       "std     22952.334054   34823.348157  \n",
       "min     60900.000000   87600.000000  \n",
       "25%    100000.000000  136000.000000  \n",
       "50%    113000.000000  153000.000000  \n",
       "75%    126000.000000  170500.000000  \n",
       "max    234000.000000  326000.000000  "
      ]
     },
     "execution_count": 304,
     "metadata": {},
     "output_type": "execute_result"
    }
   ],
   "source": [
    "college.describe()"
   ]
  },
  {
   "cell_type": "code",
   "execution_count": 305,
   "metadata": {},
   "outputs": [
    {
     "data": {
      "text/html": [
       "<div>\n",
       "<style scoped>\n",
       "    .dataframe tbody tr th:only-of-type {\n",
       "        vertical-align: middle;\n",
       "    }\n",
       "\n",
       "    .dataframe tbody tr th {\n",
       "        vertical-align: top;\n",
       "    }\n",
       "\n",
       "    .dataframe thead th {\n",
       "        text-align: right;\n",
       "    }\n",
       "</style>\n",
       "<table border=\"1\" class=\"dataframe\">\n",
       "  <thead>\n",
       "    <tr style=\"text-align: right;\">\n",
       "      <th></th>\n",
       "      <th>start_med</th>\n",
       "      <th>mid_med</th>\n",
       "      <th>increase</th>\n",
       "      <th>mid_10</th>\n",
       "      <th>mid_25</th>\n",
       "      <th>mid_75</th>\n",
       "      <th>mid_90</th>\n",
       "    </tr>\n",
       "  </thead>\n",
       "  <tbody>\n",
       "    <tr>\n",
       "      <th>count</th>\n",
       "      <td>50.000000</td>\n",
       "      <td>50.00000</td>\n",
       "      <td>50.000000</td>\n",
       "      <td>50.000000</td>\n",
       "      <td>50.000000</td>\n",
       "      <td>50.000000</td>\n",
       "      <td>50.000000</td>\n",
       "    </tr>\n",
       "    <tr>\n",
       "      <th>mean</th>\n",
       "      <td>44310.000000</td>\n",
       "      <td>74786.00000</td>\n",
       "      <td>69.274000</td>\n",
       "      <td>43408.000000</td>\n",
       "      <td>55988.000000</td>\n",
       "      <td>102138.000000</td>\n",
       "      <td>142766.000000</td>\n",
       "    </tr>\n",
       "    <tr>\n",
       "      <th>std</th>\n",
       "      <td>9360.866217</td>\n",
       "      <td>16088.40386</td>\n",
       "      <td>17.909908</td>\n",
       "      <td>12000.779567</td>\n",
       "      <td>13936.951911</td>\n",
       "      <td>20636.789914</td>\n",
       "      <td>27851.249267</td>\n",
       "    </tr>\n",
       "    <tr>\n",
       "      <th>min</th>\n",
       "      <td>34000.000000</td>\n",
       "      <td>52000.00000</td>\n",
       "      <td>23.400000</td>\n",
       "      <td>26700.000000</td>\n",
       "      <td>36500.000000</td>\n",
       "      <td>70500.000000</td>\n",
       "      <td>96400.000000</td>\n",
       "    </tr>\n",
       "    <tr>\n",
       "      <th>25%</th>\n",
       "      <td>37050.000000</td>\n",
       "      <td>60825.00000</td>\n",
       "      <td>59.125000</td>\n",
       "      <td>34825.000000</td>\n",
       "      <td>44975.000000</td>\n",
       "      <td>83275.000000</td>\n",
       "      <td>124250.000000</td>\n",
       "    </tr>\n",
       "    <tr>\n",
       "      <th>50%</th>\n",
       "      <td>40850.000000</td>\n",
       "      <td>72000.00000</td>\n",
       "      <td>67.800000</td>\n",
       "      <td>39400.000000</td>\n",
       "      <td>52450.000000</td>\n",
       "      <td>99400.000000</td>\n",
       "      <td>145500.000000</td>\n",
       "    </tr>\n",
       "    <tr>\n",
       "      <th>75%</th>\n",
       "      <td>49875.000000</td>\n",
       "      <td>88750.00000</td>\n",
       "      <td>82.425000</td>\n",
       "      <td>49850.000000</td>\n",
       "      <td>63700.000000</td>\n",
       "      <td>118750.000000</td>\n",
       "      <td>161750.000000</td>\n",
       "    </tr>\n",
       "    <tr>\n",
       "      <th>max</th>\n",
       "      <td>74300.000000</td>\n",
       "      <td>107000.00000</td>\n",
       "      <td>103.500000</td>\n",
       "      <td>71900.000000</td>\n",
       "      <td>87300.000000</td>\n",
       "      <td>145000.000000</td>\n",
       "      <td>210000.000000</td>\n",
       "    </tr>\n",
       "  </tbody>\n",
       "</table>\n",
       "</div>"
      ],
      "text/plain": [
       "          start_med       mid_med    increase        mid_10        mid_25  \\\n",
       "count     50.000000      50.00000   50.000000     50.000000     50.000000   \n",
       "mean   44310.000000   74786.00000   69.274000  43408.000000  55988.000000   \n",
       "std     9360.866217   16088.40386   17.909908  12000.779567  13936.951911   \n",
       "min    34000.000000   52000.00000   23.400000  26700.000000  36500.000000   \n",
       "25%    37050.000000   60825.00000   59.125000  34825.000000  44975.000000   \n",
       "50%    40850.000000   72000.00000   67.800000  39400.000000  52450.000000   \n",
       "75%    49875.000000   88750.00000   82.425000  49850.000000  63700.000000   \n",
       "max    74300.000000  107000.00000  103.500000  71900.000000  87300.000000   \n",
       "\n",
       "              mid_75         mid_90  \n",
       "count      50.000000      50.000000  \n",
       "mean   102138.000000  142766.000000  \n",
       "std     20636.789914   27851.249267  \n",
       "min     70500.000000   96400.000000  \n",
       "25%     83275.000000  124250.000000  \n",
       "50%     99400.000000  145500.000000  \n",
       "75%    118750.000000  161750.000000  \n",
       "max    145000.000000  210000.000000  "
      ]
     },
     "execution_count": 305,
     "metadata": {},
     "output_type": "execute_result"
    }
   ],
   "source": [
    "major.describe()"
   ]
  },
  {
   "cell_type": "code",
   "execution_count": 306,
   "metadata": {},
   "outputs": [
    {
     "data": {
      "text/html": [
       "<div>\n",
       "<style scoped>\n",
       "    .dataframe tbody tr th:only-of-type {\n",
       "        vertical-align: middle;\n",
       "    }\n",
       "\n",
       "    .dataframe tbody tr th {\n",
       "        vertical-align: top;\n",
       "    }\n",
       "\n",
       "    .dataframe thead th {\n",
       "        text-align: right;\n",
       "    }\n",
       "</style>\n",
       "<table border=\"1\" class=\"dataframe\">\n",
       "  <thead>\n",
       "    <tr style=\"text-align: right;\">\n",
       "      <th></th>\n",
       "      <th>start_med</th>\n",
       "      <th>mid_med</th>\n",
       "      <th>mid_10</th>\n",
       "      <th>mid_25</th>\n",
       "      <th>mid_75</th>\n",
       "      <th>mid_90</th>\n",
       "      <th>CPI</th>\n",
       "    </tr>\n",
       "  </thead>\n",
       "  <tbody>\n",
       "    <tr>\n",
       "      <th>count</th>\n",
       "      <td>320.000000</td>\n",
       "      <td>320.000000</td>\n",
       "      <td>273.000000</td>\n",
       "      <td>320.000000</td>\n",
       "      <td>320.000000</td>\n",
       "      <td>273.000000</td>\n",
       "      <td>320.000000</td>\n",
       "    </tr>\n",
       "    <tr>\n",
       "      <th>mean</th>\n",
       "      <td>46253.437500</td>\n",
       "      <td>83934.375000</td>\n",
       "      <td>45253.113553</td>\n",
       "      <td>60614.062500</td>\n",
       "      <td>116496.875000</td>\n",
       "      <td>160442.124542</td>\n",
       "      <td>253.162622</td>\n",
       "    </tr>\n",
       "    <tr>\n",
       "      <th>std</th>\n",
       "      <td>6617.038001</td>\n",
       "      <td>15191.443091</td>\n",
       "      <td>8562.834333</td>\n",
       "      <td>11786.436432</td>\n",
       "      <td>24104.265214</td>\n",
       "      <td>36785.768186</td>\n",
       "      <td>14.051447</td>\n",
       "    </tr>\n",
       "    <tr>\n",
       "      <th>min</th>\n",
       "      <td>34500.000000</td>\n",
       "      <td>43900.000000</td>\n",
       "      <td>25600.000000</td>\n",
       "      <td>31800.000000</td>\n",
       "      <td>60900.000000</td>\n",
       "      <td>85700.000000</td>\n",
       "      <td>234.290000</td>\n",
       "    </tr>\n",
       "    <tr>\n",
       "      <th>25%</th>\n",
       "      <td>42000.000000</td>\n",
       "      <td>73725.000000</td>\n",
       "      <td>39500.000000</td>\n",
       "      <td>53100.000000</td>\n",
       "      <td>99825.000000</td>\n",
       "      <td>136000.000000</td>\n",
       "      <td>242.737000</td>\n",
       "    </tr>\n",
       "    <tr>\n",
       "      <th>50%</th>\n",
       "      <td>45100.000000</td>\n",
       "      <td>82700.000000</td>\n",
       "      <td>43700.000000</td>\n",
       "      <td>59400.000000</td>\n",
       "      <td>113000.000000</td>\n",
       "      <td>154000.000000</td>\n",
       "      <td>263.263000</td>\n",
       "    </tr>\n",
       "    <tr>\n",
       "      <th>75%</th>\n",
       "      <td>48900.000000</td>\n",
       "      <td>93250.000000</td>\n",
       "      <td>48900.000000</td>\n",
       "      <td>66025.000000</td>\n",
       "      <td>129000.000000</td>\n",
       "      <td>178000.000000</td>\n",
       "      <td>265.139000</td>\n",
       "    </tr>\n",
       "    <tr>\n",
       "      <th>max</th>\n",
       "      <td>75500.000000</td>\n",
       "      <td>134000.000000</td>\n",
       "      <td>80000.000000</td>\n",
       "      <td>104000.000000</td>\n",
       "      <td>234000.000000</td>\n",
       "      <td>326000.000000</td>\n",
       "      <td>272.510000</td>\n",
       "    </tr>\n",
       "  </tbody>\n",
       "</table>\n",
       "</div>"
      ],
      "text/plain": [
       "          start_med        mid_med        mid_10         mid_25  \\\n",
       "count    320.000000     320.000000    273.000000     320.000000   \n",
       "mean   46253.437500   83934.375000  45253.113553   60614.062500   \n",
       "std     6617.038001   15191.443091   8562.834333   11786.436432   \n",
       "min    34500.000000   43900.000000  25600.000000   31800.000000   \n",
       "25%    42000.000000   73725.000000  39500.000000   53100.000000   \n",
       "50%    45100.000000   82700.000000  43700.000000   59400.000000   \n",
       "75%    48900.000000   93250.000000  48900.000000   66025.000000   \n",
       "max    75500.000000  134000.000000  80000.000000  104000.000000   \n",
       "\n",
       "              mid_75         mid_90         CPI  \n",
       "count     320.000000     273.000000  320.000000  \n",
       "mean   116496.875000  160442.124542  253.162622  \n",
       "std     24104.265214   36785.768186   14.051447  \n",
       "min     60900.000000   85700.000000  234.290000  \n",
       "25%     99825.000000  136000.000000  242.737000  \n",
       "50%    113000.000000  154000.000000  263.263000  \n",
       "75%    129000.000000  178000.000000  265.139000  \n",
       "max    234000.000000  326000.000000  272.510000  "
      ]
     },
     "execution_count": 306,
     "metadata": {},
     "output_type": "execute_result"
    }
   ],
   "source": [
    "region.describe()"
   ]
  },
  {
   "cell_type": "code",
   "execution_count": 307,
   "metadata": {},
   "outputs": [],
   "source": [
    "region['start_adj'] = region['start_med'] / region['CPI'] * (100*2.51107)\n",
    "region['midmed_adj'] = region['mid_med'] / region['CPI'] * (100*2.51107)\n",
    "region['mid10_adj'] = region['mid_10'] / region['CPI'] * (100*2.51107)\n",
    "region['mid25_adj'] = region['mid_25'] / region['CPI'] * (100*2.51107)\n",
    "region['mid75_adj'] = region['mid_75'] / region['CPI'] * (100*2.51107)\n",
    "region['mid90_adj'] = region['mid_90'] / region['CPI'] * (100*2.51107)\n",
    "region['change'] = (region['mid_med'] - region['start_med']) / region['start_med']\n",
    "region['change_adj'] = (region['midmed_adj'] - region['start_adj']) / region['start_adj']"
   ]
  },
  {
   "cell_type": "code",
   "execution_count": 308,
   "metadata": {},
   "outputs": [
    {
     "data": {
      "text/html": [
       "<div>\n",
       "<style scoped>\n",
       "    .dataframe tbody tr th:only-of-type {\n",
       "        vertical-align: middle;\n",
       "    }\n",
       "\n",
       "    .dataframe tbody tr th {\n",
       "        vertical-align: top;\n",
       "    }\n",
       "\n",
       "    .dataframe thead th {\n",
       "        text-align: right;\n",
       "    }\n",
       "</style>\n",
       "<table border=\"1\" class=\"dataframe\">\n",
       "  <thead>\n",
       "    <tr style=\"text-align: right;\">\n",
       "      <th></th>\n",
       "      <th>school</th>\n",
       "      <th>region</th>\n",
       "      <th>start_med</th>\n",
       "      <th>mid_med</th>\n",
       "      <th>mid_10</th>\n",
       "      <th>mid_25</th>\n",
       "      <th>mid_75</th>\n",
       "      <th>mid_90</th>\n",
       "      <th>CPI</th>\n",
       "      <th>start_adj</th>\n",
       "      <th>midmed_adj</th>\n",
       "      <th>mid10_adj</th>\n",
       "      <th>mid25_adj</th>\n",
       "      <th>mid75_adj</th>\n",
       "      <th>mid90_adj</th>\n",
       "      <th>change</th>\n",
       "      <th>change_adj</th>\n",
       "    </tr>\n",
       "  </thead>\n",
       "  <tbody>\n",
       "    <tr>\n",
       "      <th>0</th>\n",
       "      <td>Stanford University</td>\n",
       "      <td>California</td>\n",
       "      <td>70400.0</td>\n",
       "      <td>129000.0</td>\n",
       "      <td>68400.0</td>\n",
       "      <td>93100.0</td>\n",
       "      <td>184000.0</td>\n",
       "      <td>257000.0</td>\n",
       "      <td>272.51</td>\n",
       "      <td>64870.767311</td>\n",
       "      <td>118868.309420</td>\n",
       "      <td>63027.847785</td>\n",
       "      <td>85787.903930</td>\n",
       "      <td>169548.596382</td>\n",
       "      <td>236815.159077</td>\n",
       "      <td>0.832386</td>\n",
       "      <td>0.832386</td>\n",
       "    </tr>\n",
       "    <tr>\n",
       "      <th>1</th>\n",
       "      <td>California Institute of Technology (CIT)</td>\n",
       "      <td>California</td>\n",
       "      <td>75500.0</td>\n",
       "      <td>123000.0</td>\n",
       "      <td>NaN</td>\n",
       "      <td>104000.0</td>\n",
       "      <td>161000.0</td>\n",
       "      <td>NaN</td>\n",
       "      <td>272.51</td>\n",
       "      <td>69570.212102</td>\n",
       "      <td>113339.550842</td>\n",
       "      <td>NaN</td>\n",
       "      <td>95831.815346</td>\n",
       "      <td>148355.021834</td>\n",
       "      <td>NaN</td>\n",
       "      <td>0.629139</td>\n",
       "      <td>0.629139</td>\n",
       "    </tr>\n",
       "    <tr>\n",
       "      <th>2</th>\n",
       "      <td>Harvey Mudd College</td>\n",
       "      <td>California</td>\n",
       "      <td>71800.0</td>\n",
       "      <td>122000.0</td>\n",
       "      <td>NaN</td>\n",
       "      <td>96000.0</td>\n",
       "      <td>180000.0</td>\n",
       "      <td>NaN</td>\n",
       "      <td>272.51</td>\n",
       "      <td>66160.810979</td>\n",
       "      <td>112418.091079</td>\n",
       "      <td>NaN</td>\n",
       "      <td>88460.137243</td>\n",
       "      <td>165862.757330</td>\n",
       "      <td>NaN</td>\n",
       "      <td>0.699164</td>\n",
       "      <td>0.699164</td>\n",
       "    </tr>\n",
       "    <tr>\n",
       "      <th>3</th>\n",
       "      <td>University of California, Berkeley</td>\n",
       "      <td>California</td>\n",
       "      <td>59900.0</td>\n",
       "      <td>112000.0</td>\n",
       "      <td>59500.0</td>\n",
       "      <td>81000.0</td>\n",
       "      <td>149000.0</td>\n",
       "      <td>201000.0</td>\n",
       "      <td>272.51</td>\n",
       "      <td>55195.439800</td>\n",
       "      <td>103203.493450</td>\n",
       "      <td>54826.855895</td>\n",
       "      <td>74638.240799</td>\n",
       "      <td>137297.504679</td>\n",
       "      <td>185213.412352</td>\n",
       "      <td>0.869783</td>\n",
       "      <td>0.869783</td>\n",
       "    </tr>\n",
       "    <tr>\n",
       "      <th>4</th>\n",
       "      <td>Occidental College</td>\n",
       "      <td>California</td>\n",
       "      <td>51900.0</td>\n",
       "      <td>105000.0</td>\n",
       "      <td>NaN</td>\n",
       "      <td>54800.0</td>\n",
       "      <td>157000.0</td>\n",
       "      <td>NaN</td>\n",
       "      <td>272.51</td>\n",
       "      <td>47823.761697</td>\n",
       "      <td>96753.275109</td>\n",
       "      <td>NaN</td>\n",
       "      <td>50495.995009</td>\n",
       "      <td>144669.182782</td>\n",
       "      <td>NaN</td>\n",
       "      <td>1.023121</td>\n",
       "      <td>1.023121</td>\n",
       "    </tr>\n",
       "  </tbody>\n",
       "</table>\n",
       "</div>"
      ],
      "text/plain": [
       "                                     school      region  start_med   mid_med  \\\n",
       "0                       Stanford University  California    70400.0  129000.0   \n",
       "1  California Institute of Technology (CIT)  California    75500.0  123000.0   \n",
       "2                       Harvey Mudd College  California    71800.0  122000.0   \n",
       "3        University of California, Berkeley  California    59900.0  112000.0   \n",
       "4                        Occidental College  California    51900.0  105000.0   \n",
       "\n",
       "    mid_10    mid_25    mid_75    mid_90     CPI     start_adj     midmed_adj  \\\n",
       "0  68400.0   93100.0  184000.0  257000.0  272.51  64870.767311  118868.309420   \n",
       "1      NaN  104000.0  161000.0       NaN  272.51  69570.212102  113339.550842   \n",
       "2      NaN   96000.0  180000.0       NaN  272.51  66160.810979  112418.091079   \n",
       "3  59500.0   81000.0  149000.0  201000.0  272.51  55195.439800  103203.493450   \n",
       "4      NaN   54800.0  157000.0       NaN  272.51  47823.761697   96753.275109   \n",
       "\n",
       "      mid10_adj     mid25_adj      mid75_adj      mid90_adj    change  \\\n",
       "0  63027.847785  85787.903930  169548.596382  236815.159077  0.832386   \n",
       "1           NaN  95831.815346  148355.021834            NaN  0.629139   \n",
       "2           NaN  88460.137243  165862.757330            NaN  0.699164   \n",
       "3  54826.855895  74638.240799  137297.504679  185213.412352  0.869783   \n",
       "4           NaN  50495.995009  144669.182782            NaN  1.023121   \n",
       "\n",
       "   change_adj  \n",
       "0    0.832386  \n",
       "1    0.629139  \n",
       "2    0.699164  \n",
       "3    0.869783  \n",
       "4    1.023121  "
      ]
     },
     "execution_count": 308,
     "metadata": {},
     "output_type": "execute_result"
    }
   ],
   "source": [
    "region.head()"
   ]
  },
  {
   "cell_type": "code",
   "execution_count": 309,
   "metadata": {},
   "outputs": [
    {
     "data": {
      "text/html": [
       "<div>\n",
       "<style scoped>\n",
       "    .dataframe tbody tr th:only-of-type {\n",
       "        vertical-align: middle;\n",
       "    }\n",
       "\n",
       "    .dataframe tbody tr th {\n",
       "        vertical-align: top;\n",
       "    }\n",
       "\n",
       "    .dataframe thead th {\n",
       "        text-align: right;\n",
       "    }\n",
       "</style>\n",
       "<table border=\"1\" class=\"dataframe\">\n",
       "  <thead>\n",
       "    <tr style=\"text-align: right;\">\n",
       "      <th></th>\n",
       "      <th>major</th>\n",
       "      <th>start_med</th>\n",
       "      <th>mid_med</th>\n",
       "      <th>increase</th>\n",
       "      <th>mid_10</th>\n",
       "      <th>mid_25</th>\n",
       "      <th>mid_75</th>\n",
       "      <th>mid_90</th>\n",
       "    </tr>\n",
       "  </thead>\n",
       "  <tbody>\n",
       "    <tr>\n",
       "      <th>43</th>\n",
       "      <td>Physician Assistant</td>\n",
       "      <td>74300.0</td>\n",
       "      <td>91700.0</td>\n",
       "      <td>23.4</td>\n",
       "      <td>66400.0</td>\n",
       "      <td>75200.0</td>\n",
       "      <td>108000.0</td>\n",
       "      <td>124000.0</td>\n",
       "    </tr>\n",
       "    <tr>\n",
       "      <th>8</th>\n",
       "      <td>Chemical Engineering</td>\n",
       "      <td>63200.0</td>\n",
       "      <td>107000.0</td>\n",
       "      <td>69.3</td>\n",
       "      <td>71900.0</td>\n",
       "      <td>87300.0</td>\n",
       "      <td>143000.0</td>\n",
       "      <td>194000.0</td>\n",
       "    </tr>\n",
       "    <tr>\n",
       "      <th>12</th>\n",
       "      <td>Computer Engineering</td>\n",
       "      <td>61400.0</td>\n",
       "      <td>105000.0</td>\n",
       "      <td>71.0</td>\n",
       "      <td>66100.0</td>\n",
       "      <td>84100.0</td>\n",
       "      <td>135000.0</td>\n",
       "      <td>162000.0</td>\n",
       "    </tr>\n",
       "    <tr>\n",
       "      <th>19</th>\n",
       "      <td>Electrical Engineering</td>\n",
       "      <td>60900.0</td>\n",
       "      <td>103000.0</td>\n",
       "      <td>69.1</td>\n",
       "      <td>69300.0</td>\n",
       "      <td>83800.0</td>\n",
       "      <td>130000.0</td>\n",
       "      <td>168000.0</td>\n",
       "    </tr>\n",
       "    <tr>\n",
       "      <th>38</th>\n",
       "      <td>Mechanical Engineering</td>\n",
       "      <td>57900.0</td>\n",
       "      <td>93600.0</td>\n",
       "      <td>61.7</td>\n",
       "      <td>63700.0</td>\n",
       "      <td>76200.0</td>\n",
       "      <td>120000.0</td>\n",
       "      <td>163000.0</td>\n",
       "    </tr>\n",
       "  </tbody>\n",
       "</table>\n",
       "</div>"
      ],
      "text/plain": [
       "                     major  start_med   mid_med  increase   mid_10   mid_25  \\\n",
       "43     Physician Assistant    74300.0   91700.0      23.4  66400.0  75200.0   \n",
       "8     Chemical Engineering    63200.0  107000.0      69.3  71900.0  87300.0   \n",
       "12    Computer Engineering    61400.0  105000.0      71.0  66100.0  84100.0   \n",
       "19  Electrical Engineering    60900.0  103000.0      69.1  69300.0  83800.0   \n",
       "38  Mechanical Engineering    57900.0   93600.0      61.7  63700.0  76200.0   \n",
       "\n",
       "      mid_75    mid_90  \n",
       "43  108000.0  124000.0  \n",
       "8   143000.0  194000.0  \n",
       "12  135000.0  162000.0  \n",
       "19  130000.0  168000.0  \n",
       "38  120000.0  163000.0  "
      ]
     },
     "execution_count": 309,
     "metadata": {},
     "output_type": "execute_result"
    }
   ],
   "source": [
    "major.sort_values(by = 'start_med', ascending=False, inplace=True)\n",
    "major.head()"
   ]
  },
  {
   "cell_type": "code",
   "execution_count": null,
   "metadata": {},
   "outputs": [],
   "source": []
  },
  {
   "cell_type": "code",
   "execution_count": null,
   "metadata": {},
   "outputs": [],
   "source": []
  },
  {
   "cell_type": "code",
   "execution_count": null,
   "metadata": {},
   "outputs": [],
   "source": []
  },
  {
   "cell_type": "code",
   "execution_count": 311,
   "metadata": {},
   "outputs": [
    {
     "name": "stderr",
     "output_type": "stream",
     "text": [
      "C:\\Users\\BRVR\\Anaconda3\\lib\\site-packages\\plotly\\graph_objs\\_deprecations.py:410: DeprecationWarning:\n",
      "\n",
      "plotly.graph_objs.Margin is deprecated.\n",
      "Please replace it with one of the following more specific types\n",
      "  - plotly.graph_objs.layout.Margin\n",
      "\n",
      "\n"
     ]
    },
    {
     "data": {
      "application/vnd.plotly.v1+json": {
       "config": {
        "linkText": "Export to plot.ly",
        "plotlyServerURL": "https://plot.ly",
        "showLink": false
       },
       "data": [
        {
         "marker": {
          "color": "rgba(55, 128, 191, 0.7)",
          "line": {
           "color": "rgba(55, 128, 191, 1.0)",
           "width": 2
          }
         },
         "name": "Starting",
         "type": "bar",
         "x": [
          "Chemical Engine...",
          "Computer Engine...",
          "Electrical Engi...",
          "Aerospace Engin...",
          "Economics",
          "Physics",
          "Computer Science",
          "Industrial Engi...",
          "Mechanical Engi...",
          "Math",
          "Physician Assis...",
          "Civil Engineering",
          "Construction",
          "Finance",
          "Management Info...",
          "Philosophy",
          "International R...",
          "Chemistry",
          "Marketing",
          "Geology",
          "Political Science",
          "Accounting",
          "Architecture",
          "Information Tec...",
          "Business Manage...",
          "Agriculture",
          "History",
          "Communications",
          "Film",
          "Nursing",
          "Journalism",
          "Geography",
          "Art History",
          "Biology",
          "English",
          "Forestry",
          "Anthropology",
          "Health Care Adm...",
          "Psychology",
          "Graphic Design"
         ],
         "y": [
          63200,
          61400,
          60900,
          57700,
          50100,
          50300,
          55900,
          57700,
          57900,
          45400,
          74300,
          53900,
          53700,
          47900,
          49200,
          39900,
          40900,
          42600,
          40800,
          43500,
          40800,
          46000,
          41600,
          49100,
          43000,
          42600,
          39200,
          38100,
          37900,
          54200,
          35600,
          41200,
          35800,
          38800,
          38000,
          39100,
          36800,
          38800,
          35900,
          35700
         ]
        },
        {
         "marker": {
          "color": "rgba(219, 64, 82, 0.7)",
          "line": {
           "color": "rgba(219, 64, 82, 1.0)",
           "width": 2
          }
         },
         "name": "Mid-Career",
         "type": "bar",
         "x": [
          "Chemical Engine...",
          "Computer Engine...",
          "Electrical Engi...",
          "Aerospace Engin...",
          "Economics",
          "Physics",
          "Computer Science",
          "Industrial Engi...",
          "Mechanical Engi...",
          "Math",
          "Physician Assis...",
          "Civil Engineering",
          "Construction",
          "Finance",
          "Management Info...",
          "Philosophy",
          "International R...",
          "Chemistry",
          "Marketing",
          "Geology",
          "Political Science",
          "Accounting",
          "Architecture",
          "Information Tec...",
          "Business Manage...",
          "Agriculture",
          "History",
          "Communications",
          "Film",
          "Nursing",
          "Journalism",
          "Geography",
          "Art History",
          "Biology",
          "English",
          "Forestry",
          "Anthropology",
          "Health Care Adm...",
          "Psychology",
          "Graphic Design"
         ],
         "y": [
          107000,
          105000,
          103000,
          101000,
          98600,
          97300,
          95500,
          94700,
          93600,
          92400,
          91700,
          90500,
          88900,
          88300,
          82300,
          81200,
          80900,
          79900,
          79600,
          79500,
          78200,
          77100,
          76800,
          74800,
          72100,
          71900,
          71000,
          70000,
          68500,
          67000,
          66700,
          65500,
          64900,
          64800,
          64700,
          62600,
          61500,
          60600,
          60400,
          59800
         ]
        },
        {
         "marker": {
          "size": 15,
          "symbol": "hexagon-dot"
         },
         "mode": "markers",
         "name": "Percent change",
         "type": "scatter",
         "x": [
          "Chemical Engine...",
          "Computer Engine...",
          "Electrical Engi...",
          "Aerospace Engin...",
          "Economics",
          "Physics",
          "Computer Science",
          "Industrial Engi...",
          "Mechanical Engi...",
          "Math",
          "Physician Assis...",
          "Civil Engineering",
          "Construction",
          "Finance",
          "Management Info...",
          "Philosophy",
          "International R...",
          "Chemistry",
          "Marketing",
          "Geology",
          "Political Science",
          "Accounting",
          "Architecture",
          "Information Tec...",
          "Business Manage...",
          "Agriculture",
          "History",
          "Communications",
          "Film",
          "Nursing",
          "Journalism",
          "Geography",
          "Art History",
          "Biology",
          "English",
          "Forestry",
          "Anthropology",
          "Health Care Adm...",
          "Psychology",
          "Graphic Design"
         ],
         "y": [
          69.3,
          71,
          69.1,
          75,
          96.8,
          93.4,
          70.8,
          64.1,
          61.7,
          103.5,
          23.4,
          67.9,
          65.5,
          84.3,
          67.3,
          103.5,
          97.8,
          87.6,
          95.1,
          82.8,
          91.7,
          67.6,
          84.6,
          52.3,
          67.7,
          68.8,
          81.1,
          83.7,
          80.7,
          23.6,
          87.4,
          59,
          81.3,
          67,
          70.3,
          60.1,
          67.1,
          56.2,
          68.2,
          67.5
         ],
         "yaxis": "y2"
        }
       ],
       "layout": {
        "barmode": "group",
        "height": 500,
        "legend": {
         "x": 0.1,
         "y": 0.05
        },
        "margin": {
         "b": 120,
         "l": 75,
         "pad": 10,
         "r": 75,
         "t": 80
        },
        "paper_bgcolor": "rgb(244, 238, 225)",
        "plot_bgcolor": "rgb(244, 238, 225)",
        "template": {
         "data": {
          "bar": [
           {
            "error_x": {
             "color": "#2a3f5f"
            },
            "error_y": {
             "color": "#2a3f5f"
            },
            "marker": {
             "line": {
              "color": "#E5ECF6",
              "width": 0.5
             }
            },
            "type": "bar"
           }
          ],
          "barpolar": [
           {
            "marker": {
             "line": {
              "color": "#E5ECF6",
              "width": 0.5
             }
            },
            "type": "barpolar"
           }
          ],
          "carpet": [
           {
            "aaxis": {
             "endlinecolor": "#2a3f5f",
             "gridcolor": "white",
             "linecolor": "white",
             "minorgridcolor": "white",
             "startlinecolor": "#2a3f5f"
            },
            "baxis": {
             "endlinecolor": "#2a3f5f",
             "gridcolor": "white",
             "linecolor": "white",
             "minorgridcolor": "white",
             "startlinecolor": "#2a3f5f"
            },
            "type": "carpet"
           }
          ],
          "choropleth": [
           {
            "colorbar": {
             "outlinewidth": 0,
             "ticks": ""
            },
            "type": "choropleth"
           }
          ],
          "contour": [
           {
            "colorbar": {
             "outlinewidth": 0,
             "ticks": ""
            },
            "colorscale": [
             [
              0,
              "#0d0887"
             ],
             [
              0.1111111111111111,
              "#46039f"
             ],
             [
              0.2222222222222222,
              "#7201a8"
             ],
             [
              0.3333333333333333,
              "#9c179e"
             ],
             [
              0.4444444444444444,
              "#bd3786"
             ],
             [
              0.5555555555555556,
              "#d8576b"
             ],
             [
              0.6666666666666666,
              "#ed7953"
             ],
             [
              0.7777777777777778,
              "#fb9f3a"
             ],
             [
              0.8888888888888888,
              "#fdca26"
             ],
             [
              1,
              "#f0f921"
             ]
            ],
            "type": "contour"
           }
          ],
          "contourcarpet": [
           {
            "colorbar": {
             "outlinewidth": 0,
             "ticks": ""
            },
            "type": "contourcarpet"
           }
          ],
          "heatmap": [
           {
            "colorbar": {
             "outlinewidth": 0,
             "ticks": ""
            },
            "colorscale": [
             [
              0,
              "#0d0887"
             ],
             [
              0.1111111111111111,
              "#46039f"
             ],
             [
              0.2222222222222222,
              "#7201a8"
             ],
             [
              0.3333333333333333,
              "#9c179e"
             ],
             [
              0.4444444444444444,
              "#bd3786"
             ],
             [
              0.5555555555555556,
              "#d8576b"
             ],
             [
              0.6666666666666666,
              "#ed7953"
             ],
             [
              0.7777777777777778,
              "#fb9f3a"
             ],
             [
              0.8888888888888888,
              "#fdca26"
             ],
             [
              1,
              "#f0f921"
             ]
            ],
            "type": "heatmap"
           }
          ],
          "heatmapgl": [
           {
            "colorbar": {
             "outlinewidth": 0,
             "ticks": ""
            },
            "colorscale": [
             [
              0,
              "#0d0887"
             ],
             [
              0.1111111111111111,
              "#46039f"
             ],
             [
              0.2222222222222222,
              "#7201a8"
             ],
             [
              0.3333333333333333,
              "#9c179e"
             ],
             [
              0.4444444444444444,
              "#bd3786"
             ],
             [
              0.5555555555555556,
              "#d8576b"
             ],
             [
              0.6666666666666666,
              "#ed7953"
             ],
             [
              0.7777777777777778,
              "#fb9f3a"
             ],
             [
              0.8888888888888888,
              "#fdca26"
             ],
             [
              1,
              "#f0f921"
             ]
            ],
            "type": "heatmapgl"
           }
          ],
          "histogram": [
           {
            "marker": {
             "colorbar": {
              "outlinewidth": 0,
              "ticks": ""
             }
            },
            "type": "histogram"
           }
          ],
          "histogram2d": [
           {
            "colorbar": {
             "outlinewidth": 0,
             "ticks": ""
            },
            "colorscale": [
             [
              0,
              "#0d0887"
             ],
             [
              0.1111111111111111,
              "#46039f"
             ],
             [
              0.2222222222222222,
              "#7201a8"
             ],
             [
              0.3333333333333333,
              "#9c179e"
             ],
             [
              0.4444444444444444,
              "#bd3786"
             ],
             [
              0.5555555555555556,
              "#d8576b"
             ],
             [
              0.6666666666666666,
              "#ed7953"
             ],
             [
              0.7777777777777778,
              "#fb9f3a"
             ],
             [
              0.8888888888888888,
              "#fdca26"
             ],
             [
              1,
              "#f0f921"
             ]
            ],
            "type": "histogram2d"
           }
          ],
          "histogram2dcontour": [
           {
            "colorbar": {
             "outlinewidth": 0,
             "ticks": ""
            },
            "colorscale": [
             [
              0,
              "#0d0887"
             ],
             [
              0.1111111111111111,
              "#46039f"
             ],
             [
              0.2222222222222222,
              "#7201a8"
             ],
             [
              0.3333333333333333,
              "#9c179e"
             ],
             [
              0.4444444444444444,
              "#bd3786"
             ],
             [
              0.5555555555555556,
              "#d8576b"
             ],
             [
              0.6666666666666666,
              "#ed7953"
             ],
             [
              0.7777777777777778,
              "#fb9f3a"
             ],
             [
              0.8888888888888888,
              "#fdca26"
             ],
             [
              1,
              "#f0f921"
             ]
            ],
            "type": "histogram2dcontour"
           }
          ],
          "mesh3d": [
           {
            "colorbar": {
             "outlinewidth": 0,
             "ticks": ""
            },
            "type": "mesh3d"
           }
          ],
          "parcoords": [
           {
            "line": {
             "colorbar": {
              "outlinewidth": 0,
              "ticks": ""
             }
            },
            "type": "parcoords"
           }
          ],
          "pie": [
           {
            "automargin": true,
            "type": "pie"
           }
          ],
          "scatter": [
           {
            "marker": {
             "colorbar": {
              "outlinewidth": 0,
              "ticks": ""
             }
            },
            "type": "scatter"
           }
          ],
          "scatter3d": [
           {
            "line": {
             "colorbar": {
              "outlinewidth": 0,
              "ticks": ""
             }
            },
            "marker": {
             "colorbar": {
              "outlinewidth": 0,
              "ticks": ""
             }
            },
            "type": "scatter3d"
           }
          ],
          "scattercarpet": [
           {
            "marker": {
             "colorbar": {
              "outlinewidth": 0,
              "ticks": ""
             }
            },
            "type": "scattercarpet"
           }
          ],
          "scattergeo": [
           {
            "marker": {
             "colorbar": {
              "outlinewidth": 0,
              "ticks": ""
             }
            },
            "type": "scattergeo"
           }
          ],
          "scattergl": [
           {
            "marker": {
             "colorbar": {
              "outlinewidth": 0,
              "ticks": ""
             }
            },
            "type": "scattergl"
           }
          ],
          "scattermapbox": [
           {
            "marker": {
             "colorbar": {
              "outlinewidth": 0,
              "ticks": ""
             }
            },
            "type": "scattermapbox"
           }
          ],
          "scatterpolar": [
           {
            "marker": {
             "colorbar": {
              "outlinewidth": 0,
              "ticks": ""
             }
            },
            "type": "scatterpolar"
           }
          ],
          "scatterpolargl": [
           {
            "marker": {
             "colorbar": {
              "outlinewidth": 0,
              "ticks": ""
             }
            },
            "type": "scatterpolargl"
           }
          ],
          "scatterternary": [
           {
            "marker": {
             "colorbar": {
              "outlinewidth": 0,
              "ticks": ""
             }
            },
            "type": "scatterternary"
           }
          ],
          "surface": [
           {
            "colorbar": {
             "outlinewidth": 0,
             "ticks": ""
            },
            "colorscale": [
             [
              0,
              "#0d0887"
             ],
             [
              0.1111111111111111,
              "#46039f"
             ],
             [
              0.2222222222222222,
              "#7201a8"
             ],
             [
              0.3333333333333333,
              "#9c179e"
             ],
             [
              0.4444444444444444,
              "#bd3786"
             ],
             [
              0.5555555555555556,
              "#d8576b"
             ],
             [
              0.6666666666666666,
              "#ed7953"
             ],
             [
              0.7777777777777778,
              "#fb9f3a"
             ],
             [
              0.8888888888888888,
              "#fdca26"
             ],
             [
              1,
              "#f0f921"
             ]
            ],
            "type": "surface"
           }
          ],
          "table": [
           {
            "cells": {
             "fill": {
              "color": "#EBF0F8"
             },
             "line": {
              "color": "white"
             }
            },
            "header": {
             "fill": {
              "color": "#C8D4E3"
             },
             "line": {
              "color": "white"
             }
            },
            "type": "table"
           }
          ]
         },
         "layout": {
          "annotationdefaults": {
           "arrowcolor": "#2a3f5f",
           "arrowhead": 0,
           "arrowwidth": 1
          },
          "coloraxis": {
           "colorbar": {
            "outlinewidth": 0,
            "ticks": ""
           }
          },
          "colorscale": {
           "diverging": [
            [
             0,
             "#8e0152"
            ],
            [
             0.1,
             "#c51b7d"
            ],
            [
             0.2,
             "#de77ae"
            ],
            [
             0.3,
             "#f1b6da"
            ],
            [
             0.4,
             "#fde0ef"
            ],
            [
             0.5,
             "#f7f7f7"
            ],
            [
             0.6,
             "#e6f5d0"
            ],
            [
             0.7,
             "#b8e186"
            ],
            [
             0.8,
             "#7fbc41"
            ],
            [
             0.9,
             "#4d9221"
            ],
            [
             1,
             "#276419"
            ]
           ],
           "sequential": [
            [
             0,
             "#0d0887"
            ],
            [
             0.1111111111111111,
             "#46039f"
            ],
            [
             0.2222222222222222,
             "#7201a8"
            ],
            [
             0.3333333333333333,
             "#9c179e"
            ],
            [
             0.4444444444444444,
             "#bd3786"
            ],
            [
             0.5555555555555556,
             "#d8576b"
            ],
            [
             0.6666666666666666,
             "#ed7953"
            ],
            [
             0.7777777777777778,
             "#fb9f3a"
            ],
            [
             0.8888888888888888,
             "#fdca26"
            ],
            [
             1,
             "#f0f921"
            ]
           ],
           "sequentialminus": [
            [
             0,
             "#0d0887"
            ],
            [
             0.1111111111111111,
             "#46039f"
            ],
            [
             0.2222222222222222,
             "#7201a8"
            ],
            [
             0.3333333333333333,
             "#9c179e"
            ],
            [
             0.4444444444444444,
             "#bd3786"
            ],
            [
             0.5555555555555556,
             "#d8576b"
            ],
            [
             0.6666666666666666,
             "#ed7953"
            ],
            [
             0.7777777777777778,
             "#fb9f3a"
            ],
            [
             0.8888888888888888,
             "#fdca26"
            ],
            [
             1,
             "#f0f921"
            ]
           ]
          },
          "colorway": [
           "#636efa",
           "#EF553B",
           "#00cc96",
           "#ab63fa",
           "#FFA15A",
           "#19d3f3",
           "#FF6692",
           "#B6E880",
           "#FF97FF",
           "#FECB52"
          ],
          "font": {
           "color": "#2a3f5f"
          },
          "geo": {
           "bgcolor": "white",
           "lakecolor": "white",
           "landcolor": "#E5ECF6",
           "showlakes": true,
           "showland": true,
           "subunitcolor": "white"
          },
          "hoverlabel": {
           "align": "left"
          },
          "hovermode": "closest",
          "mapbox": {
           "style": "light"
          },
          "paper_bgcolor": "white",
          "plot_bgcolor": "#E5ECF6",
          "polar": {
           "angularaxis": {
            "gridcolor": "white",
            "linecolor": "white",
            "ticks": ""
           },
           "bgcolor": "#E5ECF6",
           "radialaxis": {
            "gridcolor": "white",
            "linecolor": "white",
            "ticks": ""
           }
          },
          "scene": {
           "xaxis": {
            "backgroundcolor": "#E5ECF6",
            "gridcolor": "white",
            "gridwidth": 2,
            "linecolor": "white",
            "showbackground": true,
            "ticks": "",
            "zerolinecolor": "white"
           },
           "yaxis": {
            "backgroundcolor": "#E5ECF6",
            "gridcolor": "white",
            "gridwidth": 2,
            "linecolor": "white",
            "showbackground": true,
            "ticks": "",
            "zerolinecolor": "white"
           },
           "zaxis": {
            "backgroundcolor": "#E5ECF6",
            "gridcolor": "white",
            "gridwidth": 2,
            "linecolor": "white",
            "showbackground": true,
            "ticks": "",
            "zerolinecolor": "white"
           }
          },
          "shapedefaults": {
           "line": {
            "color": "#2a3f5f"
           }
          },
          "ternary": {
           "aaxis": {
            "gridcolor": "white",
            "linecolor": "white",
            "ticks": ""
           },
           "baxis": {
            "gridcolor": "white",
            "linecolor": "white",
            "ticks": ""
           },
           "bgcolor": "#E5ECF6",
           "caxis": {
            "gridcolor": "white",
            "linecolor": "white",
            "ticks": ""
           }
          },
          "title": {
           "x": 0.05
          },
          "xaxis": {
           "automargin": true,
           "gridcolor": "white",
           "linecolor": "white",
           "ticks": "",
           "title": {
            "standoff": 15
           },
           "zerolinecolor": "white",
           "zerolinewidth": 2
          },
          "yaxis": {
           "automargin": true,
           "gridcolor": "white",
           "linecolor": "white",
           "ticks": "",
           "title": {
            "standoff": 15
           },
           "zerolinecolor": "white",
           "zerolinewidth": 2
          }
         }
        },
        "title": {
         "text": "Comparing Starting Median Salary to Mid-Career Median Salary"
        },
        "width": 850,
        "yaxis": {
         "anchor": "x",
         "rangemode": "tozero",
         "title": {
          "text": "Median Salary [$]"
         }
        },
        "yaxis2": {
         "anchor": "x",
         "dtick": 19.95,
         "overlaying": "y",
         "rangemode": "tozero",
         "side": "right",
         "tickfont": {
          "color": "rgb(148, 103, 189)"
         },
         "title": {
          "font": {
           "color": "rgb(148, 103, 189)"
          },
          "text": "Change [%]"
         }
        }
       }
      },
      "text/html": [
       "<div>\n",
       "        \n",
       "        \n",
       "            <div id=\"ad960b7d-0da6-46b4-b6a2-64cac3f7904a\" class=\"plotly-graph-div\" style=\"height:500px; width:850px;\"></div>\n",
       "            <script type=\"text/javascript\">\n",
       "                require([\"plotly\"], function(Plotly) {\n",
       "                    window.PLOTLYENV=window.PLOTLYENV || {};\n",
       "                    \n",
       "                if (document.getElementById(\"ad960b7d-0da6-46b4-b6a2-64cac3f7904a\")) {\n",
       "                    Plotly.newPlot(\n",
       "                        'ad960b7d-0da6-46b4-b6a2-64cac3f7904a',\n",
       "                        [{\"marker\": {\"color\": \"rgba(55, 128, 191, 0.7)\", \"line\": {\"color\": \"rgba(55, 128, 191, 1.0)\", \"width\": 2}}, \"name\": \"Starting\", \"type\": \"bar\", \"x\": [\"Chemical Engine...\", \"Computer Engine...\", \"Electrical Engi...\", \"Aerospace Engin...\", \"Economics\", \"Physics\", \"Computer Science\", \"Industrial Engi...\", \"Mechanical Engi...\", \"Math\", \"Physician Assis...\", \"Civil Engineering\", \"Construction\", \"Finance\", \"Management Info...\", \"Philosophy\", \"International R...\", \"Chemistry\", \"Marketing\", \"Geology\", \"Political Science\", \"Accounting\", \"Architecture\", \"Information Tec...\", \"Business Manage...\", \"Agriculture\", \"History\", \"Communications\", \"Film\", \"Nursing\", \"Journalism\", \"Geography\", \"Art History\", \"Biology\", \"English\", \"Forestry\", \"Anthropology\", \"Health Care Adm...\", \"Psychology\", \"Graphic Design\"], \"y\": [63200.0, 61400.0, 60900.0, 57700.0, 50100.0, 50300.0, 55900.0, 57700.0, 57900.0, 45400.0, 74300.0, 53900.0, 53700.0, 47900.0, 49200.0, 39900.0, 40900.0, 42600.0, 40800.0, 43500.0, 40800.0, 46000.0, 41600.0, 49100.0, 43000.0, 42600.0, 39200.0, 38100.0, 37900.0, 54200.0, 35600.0, 41200.0, 35800.0, 38800.0, 38000.0, 39100.0, 36800.0, 38800.0, 35900.0, 35700.0]}, {\"marker\": {\"color\": \"rgba(219, 64, 82, 0.7)\", \"line\": {\"color\": \"rgba(219, 64, 82, 1.0)\", \"width\": 2}}, \"name\": \"Mid-Career\", \"type\": \"bar\", \"x\": [\"Chemical Engine...\", \"Computer Engine...\", \"Electrical Engi...\", \"Aerospace Engin...\", \"Economics\", \"Physics\", \"Computer Science\", \"Industrial Engi...\", \"Mechanical Engi...\", \"Math\", \"Physician Assis...\", \"Civil Engineering\", \"Construction\", \"Finance\", \"Management Info...\", \"Philosophy\", \"International R...\", \"Chemistry\", \"Marketing\", \"Geology\", \"Political Science\", \"Accounting\", \"Architecture\", \"Information Tec...\", \"Business Manage...\", \"Agriculture\", \"History\", \"Communications\", \"Film\", \"Nursing\", \"Journalism\", \"Geography\", \"Art History\", \"Biology\", \"English\", \"Forestry\", \"Anthropology\", \"Health Care Adm...\", \"Psychology\", \"Graphic Design\"], \"y\": [107000.0, 105000.0, 103000.0, 101000.0, 98600.0, 97300.0, 95500.0, 94700.0, 93600.0, 92400.0, 91700.0, 90500.0, 88900.0, 88300.0, 82300.0, 81200.0, 80900.0, 79900.0, 79600.0, 79500.0, 78200.0, 77100.0, 76800.0, 74800.0, 72100.0, 71900.0, 71000.0, 70000.0, 68500.0, 67000.0, 66700.0, 65500.0, 64900.0, 64800.0, 64700.0, 62600.0, 61500.0, 60600.0, 60400.0, 59800.0]}, {\"marker\": {\"size\": 15, \"symbol\": \"hexagon-dot\"}, \"mode\": \"markers\", \"name\": \"Percent change\", \"type\": \"scatter\", \"x\": [\"Chemical Engine...\", \"Computer Engine...\", \"Electrical Engi...\", \"Aerospace Engin...\", \"Economics\", \"Physics\", \"Computer Science\", \"Industrial Engi...\", \"Mechanical Engi...\", \"Math\", \"Physician Assis...\", \"Civil Engineering\", \"Construction\", \"Finance\", \"Management Info...\", \"Philosophy\", \"International R...\", \"Chemistry\", \"Marketing\", \"Geology\", \"Political Science\", \"Accounting\", \"Architecture\", \"Information Tec...\", \"Business Manage...\", \"Agriculture\", \"History\", \"Communications\", \"Film\", \"Nursing\", \"Journalism\", \"Geography\", \"Art History\", \"Biology\", \"English\", \"Forestry\", \"Anthropology\", \"Health Care Adm...\", \"Psychology\", \"Graphic Design\"], \"y\": [69.3, 71.0, 69.1, 75.0, 96.8, 93.4, 70.8, 64.1, 61.7, 103.5, 23.4, 67.9, 65.5, 84.3, 67.3, 103.5, 97.8, 87.6, 95.1, 82.8, 91.7, 67.6, 84.6, 52.3, 67.7, 68.8, 81.1, 83.7, 80.7, 23.6, 87.4, 59.0, 81.3, 67.0, 70.3, 60.1, 67.1, 56.2, 68.2, 67.5], \"yaxis\": \"y2\"}],\n",
       "                        {\"barmode\": \"group\", \"height\": 500, \"legend\": {\"x\": 0.1, \"y\": 0.05}, \"margin\": {\"b\": 120, \"l\": 75, \"pad\": 10, \"r\": 75, \"t\": 80}, \"paper_bgcolor\": \"rgb(244, 238, 225)\", \"plot_bgcolor\": \"rgb(244, 238, 225)\", \"template\": {\"data\": {\"bar\": [{\"error_x\": {\"color\": \"#2a3f5f\"}, \"error_y\": {\"color\": \"#2a3f5f\"}, \"marker\": {\"line\": {\"color\": \"#E5ECF6\", \"width\": 0.5}}, \"type\": \"bar\"}], \"barpolar\": [{\"marker\": {\"line\": {\"color\": \"#E5ECF6\", \"width\": 0.5}}, \"type\": \"barpolar\"}], \"carpet\": [{\"aaxis\": {\"endlinecolor\": \"#2a3f5f\", \"gridcolor\": \"white\", \"linecolor\": \"white\", \"minorgridcolor\": \"white\", \"startlinecolor\": \"#2a3f5f\"}, \"baxis\": {\"endlinecolor\": \"#2a3f5f\", \"gridcolor\": \"white\", \"linecolor\": \"white\", \"minorgridcolor\": \"white\", \"startlinecolor\": \"#2a3f5f\"}, \"type\": \"carpet\"}], \"choropleth\": [{\"colorbar\": {\"outlinewidth\": 0, \"ticks\": \"\"}, \"type\": \"choropleth\"}], \"contour\": [{\"colorbar\": {\"outlinewidth\": 0, \"ticks\": \"\"}, \"colorscale\": [[0.0, \"#0d0887\"], [0.1111111111111111, \"#46039f\"], [0.2222222222222222, \"#7201a8\"], [0.3333333333333333, \"#9c179e\"], [0.4444444444444444, \"#bd3786\"], [0.5555555555555556, \"#d8576b\"], [0.6666666666666666, \"#ed7953\"], [0.7777777777777778, \"#fb9f3a\"], [0.8888888888888888, \"#fdca26\"], [1.0, \"#f0f921\"]], \"type\": \"contour\"}], \"contourcarpet\": [{\"colorbar\": {\"outlinewidth\": 0, \"ticks\": \"\"}, \"type\": \"contourcarpet\"}], \"heatmap\": [{\"colorbar\": {\"outlinewidth\": 0, \"ticks\": \"\"}, \"colorscale\": [[0.0, \"#0d0887\"], [0.1111111111111111, \"#46039f\"], [0.2222222222222222, \"#7201a8\"], [0.3333333333333333, \"#9c179e\"], [0.4444444444444444, \"#bd3786\"], [0.5555555555555556, \"#d8576b\"], [0.6666666666666666, \"#ed7953\"], [0.7777777777777778, \"#fb9f3a\"], [0.8888888888888888, \"#fdca26\"], [1.0, \"#f0f921\"]], \"type\": \"heatmap\"}], \"heatmapgl\": [{\"colorbar\": {\"outlinewidth\": 0, \"ticks\": \"\"}, \"colorscale\": [[0.0, \"#0d0887\"], [0.1111111111111111, \"#46039f\"], [0.2222222222222222, \"#7201a8\"], [0.3333333333333333, \"#9c179e\"], [0.4444444444444444, \"#bd3786\"], [0.5555555555555556, \"#d8576b\"], [0.6666666666666666, \"#ed7953\"], [0.7777777777777778, \"#fb9f3a\"], [0.8888888888888888, \"#fdca26\"], [1.0, \"#f0f921\"]], \"type\": \"heatmapgl\"}], \"histogram\": [{\"marker\": {\"colorbar\": {\"outlinewidth\": 0, \"ticks\": \"\"}}, \"type\": \"histogram\"}], \"histogram2d\": [{\"colorbar\": {\"outlinewidth\": 0, \"ticks\": \"\"}, \"colorscale\": [[0.0, \"#0d0887\"], [0.1111111111111111, \"#46039f\"], [0.2222222222222222, \"#7201a8\"], [0.3333333333333333, \"#9c179e\"], [0.4444444444444444, \"#bd3786\"], [0.5555555555555556, \"#d8576b\"], [0.6666666666666666, \"#ed7953\"], [0.7777777777777778, \"#fb9f3a\"], [0.8888888888888888, \"#fdca26\"], [1.0, \"#f0f921\"]], \"type\": \"histogram2d\"}], \"histogram2dcontour\": [{\"colorbar\": {\"outlinewidth\": 0, \"ticks\": \"\"}, \"colorscale\": [[0.0, \"#0d0887\"], [0.1111111111111111, \"#46039f\"], [0.2222222222222222, \"#7201a8\"], [0.3333333333333333, \"#9c179e\"], [0.4444444444444444, \"#bd3786\"], [0.5555555555555556, \"#d8576b\"], [0.6666666666666666, \"#ed7953\"], [0.7777777777777778, \"#fb9f3a\"], [0.8888888888888888, \"#fdca26\"], [1.0, \"#f0f921\"]], \"type\": \"histogram2dcontour\"}], \"mesh3d\": [{\"colorbar\": {\"outlinewidth\": 0, \"ticks\": \"\"}, \"type\": \"mesh3d\"}], \"parcoords\": [{\"line\": {\"colorbar\": {\"outlinewidth\": 0, \"ticks\": \"\"}}, \"type\": \"parcoords\"}], \"pie\": [{\"automargin\": true, \"type\": \"pie\"}], \"scatter\": [{\"marker\": {\"colorbar\": {\"outlinewidth\": 0, \"ticks\": \"\"}}, \"type\": \"scatter\"}], \"scatter3d\": [{\"line\": {\"colorbar\": {\"outlinewidth\": 0, \"ticks\": \"\"}}, \"marker\": {\"colorbar\": {\"outlinewidth\": 0, \"ticks\": \"\"}}, \"type\": \"scatter3d\"}], \"scattercarpet\": [{\"marker\": {\"colorbar\": {\"outlinewidth\": 0, \"ticks\": \"\"}}, \"type\": \"scattercarpet\"}], \"scattergeo\": [{\"marker\": {\"colorbar\": {\"outlinewidth\": 0, \"ticks\": \"\"}}, \"type\": \"scattergeo\"}], \"scattergl\": [{\"marker\": {\"colorbar\": {\"outlinewidth\": 0, \"ticks\": \"\"}}, \"type\": \"scattergl\"}], \"scattermapbox\": [{\"marker\": {\"colorbar\": {\"outlinewidth\": 0, \"ticks\": \"\"}}, \"type\": \"scattermapbox\"}], \"scatterpolar\": [{\"marker\": {\"colorbar\": {\"outlinewidth\": 0, \"ticks\": \"\"}}, \"type\": \"scatterpolar\"}], \"scatterpolargl\": [{\"marker\": {\"colorbar\": {\"outlinewidth\": 0, \"ticks\": \"\"}}, \"type\": \"scatterpolargl\"}], \"scatterternary\": [{\"marker\": {\"colorbar\": {\"outlinewidth\": 0, \"ticks\": \"\"}}, \"type\": \"scatterternary\"}], \"surface\": [{\"colorbar\": {\"outlinewidth\": 0, \"ticks\": \"\"}, \"colorscale\": [[0.0, \"#0d0887\"], [0.1111111111111111, \"#46039f\"], [0.2222222222222222, \"#7201a8\"], [0.3333333333333333, \"#9c179e\"], [0.4444444444444444, \"#bd3786\"], [0.5555555555555556, \"#d8576b\"], [0.6666666666666666, \"#ed7953\"], [0.7777777777777778, \"#fb9f3a\"], [0.8888888888888888, \"#fdca26\"], [1.0, \"#f0f921\"]], \"type\": \"surface\"}], \"table\": [{\"cells\": {\"fill\": {\"color\": \"#EBF0F8\"}, \"line\": {\"color\": \"white\"}}, \"header\": {\"fill\": {\"color\": \"#C8D4E3\"}, \"line\": {\"color\": \"white\"}}, \"type\": \"table\"}]}, \"layout\": {\"annotationdefaults\": {\"arrowcolor\": \"#2a3f5f\", \"arrowhead\": 0, \"arrowwidth\": 1}, \"coloraxis\": {\"colorbar\": {\"outlinewidth\": 0, \"ticks\": \"\"}}, \"colorscale\": {\"diverging\": [[0, \"#8e0152\"], [0.1, \"#c51b7d\"], [0.2, \"#de77ae\"], [0.3, \"#f1b6da\"], [0.4, \"#fde0ef\"], [0.5, \"#f7f7f7\"], [0.6, \"#e6f5d0\"], [0.7, \"#b8e186\"], [0.8, \"#7fbc41\"], [0.9, \"#4d9221\"], [1, \"#276419\"]], \"sequential\": [[0.0, \"#0d0887\"], [0.1111111111111111, \"#46039f\"], [0.2222222222222222, \"#7201a8\"], [0.3333333333333333, \"#9c179e\"], [0.4444444444444444, \"#bd3786\"], [0.5555555555555556, \"#d8576b\"], [0.6666666666666666, \"#ed7953\"], [0.7777777777777778, \"#fb9f3a\"], [0.8888888888888888, \"#fdca26\"], [1.0, \"#f0f921\"]], \"sequentialminus\": [[0.0, \"#0d0887\"], [0.1111111111111111, \"#46039f\"], [0.2222222222222222, \"#7201a8\"], [0.3333333333333333, \"#9c179e\"], [0.4444444444444444, \"#bd3786\"], [0.5555555555555556, \"#d8576b\"], [0.6666666666666666, \"#ed7953\"], [0.7777777777777778, \"#fb9f3a\"], [0.8888888888888888, \"#fdca26\"], [1.0, \"#f0f921\"]]}, \"colorway\": [\"#636efa\", \"#EF553B\", \"#00cc96\", \"#ab63fa\", \"#FFA15A\", \"#19d3f3\", \"#FF6692\", \"#B6E880\", \"#FF97FF\", \"#FECB52\"], \"font\": {\"color\": \"#2a3f5f\"}, \"geo\": {\"bgcolor\": \"white\", \"lakecolor\": \"white\", \"landcolor\": \"#E5ECF6\", \"showlakes\": true, \"showland\": true, \"subunitcolor\": \"white\"}, \"hoverlabel\": {\"align\": \"left\"}, \"hovermode\": \"closest\", \"mapbox\": {\"style\": \"light\"}, \"paper_bgcolor\": \"white\", \"plot_bgcolor\": \"#E5ECF6\", \"polar\": {\"angularaxis\": {\"gridcolor\": \"white\", \"linecolor\": \"white\", \"ticks\": \"\"}, \"bgcolor\": \"#E5ECF6\", \"radialaxis\": {\"gridcolor\": \"white\", \"linecolor\": \"white\", \"ticks\": \"\"}}, \"scene\": {\"xaxis\": {\"backgroundcolor\": \"#E5ECF6\", \"gridcolor\": \"white\", \"gridwidth\": 2, \"linecolor\": \"white\", \"showbackground\": true, \"ticks\": \"\", \"zerolinecolor\": \"white\"}, \"yaxis\": {\"backgroundcolor\": \"#E5ECF6\", \"gridcolor\": \"white\", \"gridwidth\": 2, \"linecolor\": \"white\", \"showbackground\": true, \"ticks\": \"\", \"zerolinecolor\": \"white\"}, \"zaxis\": {\"backgroundcolor\": \"#E5ECF6\", \"gridcolor\": \"white\", \"gridwidth\": 2, \"linecolor\": \"white\", \"showbackground\": true, \"ticks\": \"\", \"zerolinecolor\": \"white\"}}, \"shapedefaults\": {\"line\": {\"color\": \"#2a3f5f\"}}, \"ternary\": {\"aaxis\": {\"gridcolor\": \"white\", \"linecolor\": \"white\", \"ticks\": \"\"}, \"baxis\": {\"gridcolor\": \"white\", \"linecolor\": \"white\", \"ticks\": \"\"}, \"bgcolor\": \"#E5ECF6\", \"caxis\": {\"gridcolor\": \"white\", \"linecolor\": \"white\", \"ticks\": \"\"}}, \"title\": {\"x\": 0.05}, \"xaxis\": {\"automargin\": true, \"gridcolor\": \"white\", \"linecolor\": \"white\", \"ticks\": \"\", \"title\": {\"standoff\": 15}, \"zerolinecolor\": \"white\", \"zerolinewidth\": 2}, \"yaxis\": {\"automargin\": true, \"gridcolor\": \"white\", \"linecolor\": \"white\", \"ticks\": \"\", \"title\": {\"standoff\": 15}, \"zerolinecolor\": \"white\", \"zerolinewidth\": 2}}}, \"title\": {\"text\": \"Comparing Starting Median Salary to Mid-Career Median Salary\"}, \"width\": 850, \"yaxis\": {\"anchor\": \"x\", \"rangemode\": \"tozero\", \"title\": {\"text\": \"Median Salary [$]\"}}, \"yaxis2\": {\"anchor\": \"x\", \"dtick\": 19.95, \"overlaying\": \"y\", \"rangemode\": \"tozero\", \"side\": \"right\", \"tickfont\": {\"color\": \"rgb(148, 103, 189)\"}, \"title\": {\"font\": {\"color\": \"rgb(148, 103, 189)\"}, \"text\": \"Change [%]\"}}},\n",
       "                        {\"responsive\": true}\n",
       "                    ).then(function(){\n",
       "                            \n",
       "var gd = document.getElementById('ad960b7d-0da6-46b4-b6a2-64cac3f7904a');\n",
       "var x = new MutationObserver(function (mutations, observer) {{\n",
       "        var display = window.getComputedStyle(gd).display;\n",
       "        if (!display || display === 'none') {{\n",
       "            console.log([gd, 'removed!']);\n",
       "            Plotly.purge(gd);\n",
       "            observer.disconnect();\n",
       "        }}\n",
       "}});\n",
       "\n",
       "// Listen for the removal of the full notebook cells\n",
       "var notebookContainer = gd.closest('#notebook-container');\n",
       "if (notebookContainer) {{\n",
       "    x.observe(notebookContainer, {childList: true});\n",
       "}}\n",
       "\n",
       "// Listen for the clearing of the current output cell\n",
       "var outputEl = gd.closest('.output');\n",
       "if (outputEl) {{\n",
       "    x.observe(outputEl, {childList: true});\n",
       "}}\n",
       "\n",
       "                        })\n",
       "                };\n",
       "                });\n",
       "            </script>\n",
       "        </div>"
      ]
     },
     "metadata": {},
     "output_type": "display_data"
    }
   ],
   "source": [
    "major_sort = major.sort_values(\"mid_med\", ascending=False).head(40)\n",
    "\n",
    "def cut_name(x):\n",
    "    if len(x) <= 18:\n",
    "        return x\n",
    "    else:\n",
    "        return x[0:15] + \"...\"\n",
    "\n",
    "trace1 = go.Bar(\n",
    "    x = major_sort[\"major\"].apply(cut_name).tolist(),\n",
    "    y = major_sort[\"start_med\"].tolist(),\n",
    "    name='Starting',\n",
    "    marker=dict(\n",
    "        color='rgba(55, 128, 191, 0.7)',\n",
    "        line=dict(\n",
    "            color='rgba(55, 128, 191, 1.0)',\n",
    "            width=2,\n",
    "        )\n",
    "    )\n",
    ")\n",
    "trace2 = go.Bar(\n",
    "    x = major_sort[\"major\"].apply(cut_name).tolist(),\n",
    "    y = major_sort[\"mid_med\"].tolist(),\n",
    "    name='Mid-Career',\n",
    "    marker=dict(\n",
    "        color='rgba(219, 64, 82, 0.7)',\n",
    "        line=dict(\n",
    "            color='rgba(219, 64, 82, 1.0)',\n",
    "            width=2,\n",
    "        )\n",
    "    )\n",
    ")\n",
    "\n",
    "trace3 = go.Scatter(\n",
    "    x = major_sort[\"major\"].apply(cut_name).tolist(),\n",
    "    y = major_sort[\"increase\"].tolist(),\n",
    "    name='Percent change',\n",
    "    mode = 'markers',\n",
    "    marker=dict(\n",
    "        symbol=\"hexagon-dot\",\n",
    "        size=15\n",
    "    ),\n",
    "    yaxis='y2'\n",
    ")\n",
    "\n",
    "data = [trace1, trace2, trace3]\n",
    "layout = go.Layout(\n",
    "    barmode='group',\n",
    "    title = 'Comparing Starting Median Salary to Mid-Career Median Salary',\n",
    "    width=850,\n",
    "    height=500,\n",
    "    margin=go.Margin(\n",
    "        l=75,\n",
    "        r=75,\n",
    "        b=120,\n",
    "        t=80,\n",
    "        pad=10\n",
    "    ),\n",
    "    paper_bgcolor='rgb(244, 238, 225)',\n",
    "    plot_bgcolor='rgb(244, 238, 225)',\n",
    "    yaxis = dict(\n",
    "        title= 'Median Salary [$]',\n",
    "        anchor = 'x',\n",
    "        rangemode='tozero'\n",
    "    ),   \n",
    "    yaxis2=dict(\n",
    "        title='Change [%]',\n",
    "        titlefont=dict(\n",
    "            color='rgb(148, 103, 189)'\n",
    "        ),\n",
    "        tickfont=dict(\n",
    "            color='rgb(148, 103, 189)'\n",
    "        ),\n",
    "        overlaying='y',\n",
    "        side='right',\n",
    "        anchor = 'x',\n",
    "        rangemode = 'tozero',\n",
    "        dtick = 19.95\n",
    "    ),\n",
    "    #legend=dict(x=-.1, y=1.2)\n",
    "    legend=dict(x=0.1, y=0.05)\n",
    ")\n",
    "\n",
    "fig = go.Figure(data=data, layout=layout)\n",
    "py.iplot(fig)"
   ]
  },
  {
   "cell_type": "code",
   "execution_count": null,
   "metadata": {},
   "outputs": [],
   "source": []
  },
  {
   "cell_type": "markdown",
   "metadata": {},
   "source": [
    "**Salary by region compared to average cost of living (2018 Average CPI-U)**"
   ]
  },
  {
   "cell_type": "markdown",
   "metadata": {},
   "source": [
    "* These regions conveniently coordinate with US Census regions (except that California is included as \"Western\" and not broken out on its own).\n",
    "Luckily California has its own CPI Calculation which I pulled from https://www.dir.ca.gov/oprl/CAPriceIndex.htm"
   ]
  },
  {
   "cell_type": "code",
   "execution_count": 356,
   "metadata": {},
   "outputs": [],
   "source": [
    "region_mean = region.groupby('region').mean()"
   ]
  },
  {
   "cell_type": "code",
   "execution_count": 357,
   "metadata": {},
   "outputs": [
    {
     "data": {
      "text/html": [
       "<div>\n",
       "<style scoped>\n",
       "    .dataframe tbody tr th:only-of-type {\n",
       "        vertical-align: middle;\n",
       "    }\n",
       "\n",
       "    .dataframe tbody tr th {\n",
       "        vertical-align: top;\n",
       "    }\n",
       "\n",
       "    .dataframe thead th {\n",
       "        text-align: right;\n",
       "    }\n",
       "</style>\n",
       "<table border=\"1\" class=\"dataframe\">\n",
       "  <thead>\n",
       "    <tr style=\"text-align: right;\">\n",
       "      <th></th>\n",
       "      <th>start_med</th>\n",
       "      <th>mid_med</th>\n",
       "      <th>mid_10</th>\n",
       "      <th>mid_25</th>\n",
       "      <th>mid_75</th>\n",
       "      <th>mid_90</th>\n",
       "      <th>CPI</th>\n",
       "      <th>start_adj</th>\n",
       "      <th>midmed_adj</th>\n",
       "      <th>mid10_adj</th>\n",
       "      <th>mid25_adj</th>\n",
       "      <th>mid75_adj</th>\n",
       "      <th>mid90_adj</th>\n",
       "      <th>change</th>\n",
       "      <th>change_adj</th>\n",
       "    </tr>\n",
       "    <tr>\n",
       "      <th>region</th>\n",
       "      <th></th>\n",
       "      <th></th>\n",
       "      <th></th>\n",
       "      <th></th>\n",
       "      <th></th>\n",
       "      <th></th>\n",
       "      <th></th>\n",
       "      <th></th>\n",
       "      <th></th>\n",
       "      <th></th>\n",
       "      <th></th>\n",
       "      <th></th>\n",
       "      <th></th>\n",
       "      <th></th>\n",
       "      <th></th>\n",
       "    </tr>\n",
       "  </thead>\n",
       "  <tbody>\n",
       "    <tr>\n",
       "      <th>California</th>\n",
       "      <td>51032.142857</td>\n",
       "      <td>93132.142857</td>\n",
       "      <td>47777.272727</td>\n",
       "      <td>67153.571429</td>\n",
       "      <td>127350.000000</td>\n",
       "      <td>167909.090909</td>\n",
       "      <td>272.510</td>\n",
       "      <td>47024.066260</td>\n",
       "      <td>85817.522280</td>\n",
       "      <td>44024.834401</td>\n",
       "      <td>61879.314009</td>\n",
       "      <td>117347.900811</td>\n",
       "      <td>154721.471105</td>\n",
       "      <td>0.828146</td>\n",
       "      <td>0.828146</td>\n",
       "    </tr>\n",
       "    <tr>\n",
       "      <th>Midwestern</th>\n",
       "      <td>44225.352113</td>\n",
       "      <td>78180.281690</td>\n",
       "      <td>43076.562500</td>\n",
       "      <td>57026.760563</td>\n",
       "      <td>107594.366197</td>\n",
       "      <td>147689.062500</td>\n",
       "      <td>234.290</td>\n",
       "      <td>47399.784425</td>\n",
       "      <td>83791.950123</td>\n",
       "      <td>46168.536343</td>\n",
       "      <td>61120.059605</td>\n",
       "      <td>115317.335408</td>\n",
       "      <td>158289.971476</td>\n",
       "      <td>0.762361</td>\n",
       "      <td>0.762361</td>\n",
       "    </tr>\n",
       "    <tr>\n",
       "      <th>Northeastern</th>\n",
       "      <td>48496.000000</td>\n",
       "      <td>91352.000000</td>\n",
       "      <td>49101.219512</td>\n",
       "      <td>65479.000000</td>\n",
       "      <td>129576.000000</td>\n",
       "      <td>181926.829268</td>\n",
       "      <td>265.139</td>\n",
       "      <td>45929.437284</td>\n",
       "      <td>86517.361324</td>\n",
       "      <td>46502.626653</td>\n",
       "      <td>62013.642855</td>\n",
       "      <td>122718.425550</td>\n",
       "      <td>172298.682265</td>\n",
       "      <td>0.884000</td>\n",
       "      <td>0.884000</td>\n",
       "    </tr>\n",
       "    <tr>\n",
       "      <th>Southern</th>\n",
       "      <td>44521.518987</td>\n",
       "      <td>79505.063291</td>\n",
       "      <td>43074.647887</td>\n",
       "      <td>57506.329114</td>\n",
       "      <td>109662.025316</td>\n",
       "      <td>152769.014085</td>\n",
       "      <td>242.737</td>\n",
       "      <td>46056.699508</td>\n",
       "      <td>82246.538137</td>\n",
       "      <td>44559.937739</td>\n",
       "      <td>59489.248795</td>\n",
       "      <td>113443.365417</td>\n",
       "      <td>158036.759207</td>\n",
       "      <td>0.778628</td>\n",
       "      <td>0.778628</td>\n",
       "    </tr>\n",
       "    <tr>\n",
       "      <th>Western</th>\n",
       "      <td>44414.285714</td>\n",
       "      <td>78200.000000</td>\n",
       "      <td>42985.294118</td>\n",
       "      <td>56580.952381</td>\n",
       "      <td>106026.190476</td>\n",
       "      <td>143823.529412</td>\n",
       "      <td>263.263</td>\n",
       "      <td>42363.484587</td>\n",
       "      <td>74589.165207</td>\n",
       "      <td>41000.475760</td>\n",
       "      <td>53968.363232</td>\n",
       "      <td>101130.499204</td>\n",
       "      <td>137182.570281</td>\n",
       "      <td>0.760452</td>\n",
       "      <td>0.760452</td>\n",
       "    </tr>\n",
       "  </tbody>\n",
       "</table>\n",
       "</div>"
      ],
      "text/plain": [
       "                 start_med       mid_med        mid_10        mid_25  \\\n",
       "region                                                                 \n",
       "California    51032.142857  93132.142857  47777.272727  67153.571429   \n",
       "Midwestern    44225.352113  78180.281690  43076.562500  57026.760563   \n",
       "Northeastern  48496.000000  91352.000000  49101.219512  65479.000000   \n",
       "Southern      44521.518987  79505.063291  43074.647887  57506.329114   \n",
       "Western       44414.285714  78200.000000  42985.294118  56580.952381   \n",
       "\n",
       "                     mid_75         mid_90      CPI     start_adj  \\\n",
       "region                                                              \n",
       "California    127350.000000  167909.090909  272.510  47024.066260   \n",
       "Midwestern    107594.366197  147689.062500  234.290  47399.784425   \n",
       "Northeastern  129576.000000  181926.829268  265.139  45929.437284   \n",
       "Southern      109662.025316  152769.014085  242.737  46056.699508   \n",
       "Western       106026.190476  143823.529412  263.263  42363.484587   \n",
       "\n",
       "                midmed_adj     mid10_adj     mid25_adj      mid75_adj  \\\n",
       "region                                                                  \n",
       "California    85817.522280  44024.834401  61879.314009  117347.900811   \n",
       "Midwestern    83791.950123  46168.536343  61120.059605  115317.335408   \n",
       "Northeastern  86517.361324  46502.626653  62013.642855  122718.425550   \n",
       "Southern      82246.538137  44559.937739  59489.248795  113443.365417   \n",
       "Western       74589.165207  41000.475760  53968.363232  101130.499204   \n",
       "\n",
       "                  mid90_adj    change  change_adj  \n",
       "region                                             \n",
       "California    154721.471105  0.828146    0.828146  \n",
       "Midwestern    158289.971476  0.762361    0.762361  \n",
       "Northeastern  172298.682265  0.884000    0.884000  \n",
       "Southern      158036.759207  0.778628    0.778628  \n",
       "Western       137182.570281  0.760452    0.760452  "
      ]
     },
     "execution_count": 357,
     "metadata": {},
     "output_type": "execute_result"
    }
   ],
   "source": [
    "region_mean"
   ]
  },
  {
   "cell_type": "code",
   "execution_count": 358,
   "metadata": {},
   "outputs": [],
   "source": [
    "region_sort = region_mean.sort_values(\"midmed_adj\", ascending=False).head(6)\n"
   ]
  },
  {
   "cell_type": "code",
   "execution_count": 359,
   "metadata": {},
   "outputs": [],
   "source": [
    "region_start = region_sort['start_adj']\n",
    "region_mid = region_sort['midmed_adj']\n"
   ]
  },
  {
   "cell_type": "code",
   "execution_count": 360,
   "metadata": {},
   "outputs": [
    {
     "data": {
      "text/plain": [
       "region\n",
       "Northeastern    45929.437284\n",
       "California      47024.066260\n",
       "Midwestern      47399.784425\n",
       "Southern        46056.699508\n",
       "Western         42363.484587\n",
       "Name: start_adj, dtype: float64"
      ]
     },
     "execution_count": 360,
     "metadata": {},
     "output_type": "execute_result"
    }
   ],
   "source": [
    "region_start"
   ]
  },
  {
   "cell_type": "code",
   "execution_count": 361,
   "metadata": {},
   "outputs": [],
   "source": [
    "region_mid = pd.Series(region_mid)\n",
    "\n",
    "#avg_highest2000s = pd.Series(avg_highest2000s)"
   ]
  },
  {
   "cell_type": "code",
   "execution_count": 362,
   "metadata": {},
   "outputs": [
    {
     "data": {
      "text/plain": [
       "region\n",
       "Northeastern    86517.361324\n",
       "California      85817.522280\n",
       "Midwestern      83791.950123\n",
       "Southern        82246.538137\n",
       "Western         74589.165207\n",
       "Name: midmed_adj, dtype: float64"
      ]
     },
     "execution_count": 362,
     "metadata": {},
     "output_type": "execute_result"
    }
   ],
   "source": [
    "region_mid"
   ]
  },
  {
   "cell_type": "code",
   "execution_count": 380,
   "metadata": {
    "scrolled": false
   },
   "outputs": [
    {
     "data": {
      "application/vnd.plotly.v1+json": {
       "config": {
        "linkText": "Export to plot.ly",
        "plotlyServerURL": "https://plot.ly",
        "showLink": false
       },
       "data": [
        {
         "marker": {
          "color": "rgba(55, 128, 191, 0.7)",
          "line": {
           "color": "rgba(55, 128, 191, 1.0)",
           "width": 2
          }
         },
         "name": "Starting",
         "type": "bar",
         "x": [
          "Northeastern",
          "California",
          "Midwestern",
          "Southern",
          "Western"
         ],
         "y": [
          45929.4372838398,
          47024.066259691666,
          47399.78442510455,
          46056.69950750991,
          42363.48458711306
         ]
        },
        {
         "marker": {
          "color": "rgba(219, 64, 82, 0.7)",
          "line": {
           "color": "rgba(219, 64, 82, 1.0)",
           "width": 2
          }
         },
         "name": "Mid-Career",
         "type": "bar",
         "x": [
          "Northeastern",
          "California",
          "Midwestern",
          "Southern",
          "Western"
         ],
         "y": [
          86517.36132368304,
          85817.52227965424,
          83791.95012320713,
          82246.53813735898,
          74589.16520741618
         ]
        },
        {
         "marker": {
          "size": 15,
          "symbol": "hexagon-dot"
         },
         "mode": "markers",
         "name": "Percent change",
         "type": "scatter",
         "x": [
          "Northeastern",
          "California",
          "Midwestern",
          "Southern",
          "Western"
         ],
         "y": [
          0.8839995754932088,
          0.8281458828891779,
          0.7623614255308193,
          0.7786275686362066,
          0.7604522558654189
         ],
         "yaxis": "y2"
        }
       ],
       "layout": {
        "barmode": "group",
        "height": 500,
        "margin": {
         "b": 120,
         "l": 75,
         "pad": 10,
         "r": 75,
         "t": 80
        },
        "paper_bgcolor": "rgb(244, 238, 225)",
        "plot_bgcolor": "rgb(244, 238, 225)",
        "showlegend": true,
        "template": {
         "data": {
          "bar": [
           {
            "error_x": {
             "color": "#2a3f5f"
            },
            "error_y": {
             "color": "#2a3f5f"
            },
            "marker": {
             "line": {
              "color": "#E5ECF6",
              "width": 0.5
             }
            },
            "type": "bar"
           }
          ],
          "barpolar": [
           {
            "marker": {
             "line": {
              "color": "#E5ECF6",
              "width": 0.5
             }
            },
            "type": "barpolar"
           }
          ],
          "carpet": [
           {
            "aaxis": {
             "endlinecolor": "#2a3f5f",
             "gridcolor": "white",
             "linecolor": "white",
             "minorgridcolor": "white",
             "startlinecolor": "#2a3f5f"
            },
            "baxis": {
             "endlinecolor": "#2a3f5f",
             "gridcolor": "white",
             "linecolor": "white",
             "minorgridcolor": "white",
             "startlinecolor": "#2a3f5f"
            },
            "type": "carpet"
           }
          ],
          "choropleth": [
           {
            "colorbar": {
             "outlinewidth": 0,
             "ticks": ""
            },
            "type": "choropleth"
           }
          ],
          "contour": [
           {
            "colorbar": {
             "outlinewidth": 0,
             "ticks": ""
            },
            "colorscale": [
             [
              0,
              "#0d0887"
             ],
             [
              0.1111111111111111,
              "#46039f"
             ],
             [
              0.2222222222222222,
              "#7201a8"
             ],
             [
              0.3333333333333333,
              "#9c179e"
             ],
             [
              0.4444444444444444,
              "#bd3786"
             ],
             [
              0.5555555555555556,
              "#d8576b"
             ],
             [
              0.6666666666666666,
              "#ed7953"
             ],
             [
              0.7777777777777778,
              "#fb9f3a"
             ],
             [
              0.8888888888888888,
              "#fdca26"
             ],
             [
              1,
              "#f0f921"
             ]
            ],
            "type": "contour"
           }
          ],
          "contourcarpet": [
           {
            "colorbar": {
             "outlinewidth": 0,
             "ticks": ""
            },
            "type": "contourcarpet"
           }
          ],
          "heatmap": [
           {
            "colorbar": {
             "outlinewidth": 0,
             "ticks": ""
            },
            "colorscale": [
             [
              0,
              "#0d0887"
             ],
             [
              0.1111111111111111,
              "#46039f"
             ],
             [
              0.2222222222222222,
              "#7201a8"
             ],
             [
              0.3333333333333333,
              "#9c179e"
             ],
             [
              0.4444444444444444,
              "#bd3786"
             ],
             [
              0.5555555555555556,
              "#d8576b"
             ],
             [
              0.6666666666666666,
              "#ed7953"
             ],
             [
              0.7777777777777778,
              "#fb9f3a"
             ],
             [
              0.8888888888888888,
              "#fdca26"
             ],
             [
              1,
              "#f0f921"
             ]
            ],
            "type": "heatmap"
           }
          ],
          "heatmapgl": [
           {
            "colorbar": {
             "outlinewidth": 0,
             "ticks": ""
            },
            "colorscale": [
             [
              0,
              "#0d0887"
             ],
             [
              0.1111111111111111,
              "#46039f"
             ],
             [
              0.2222222222222222,
              "#7201a8"
             ],
             [
              0.3333333333333333,
              "#9c179e"
             ],
             [
              0.4444444444444444,
              "#bd3786"
             ],
             [
              0.5555555555555556,
              "#d8576b"
             ],
             [
              0.6666666666666666,
              "#ed7953"
             ],
             [
              0.7777777777777778,
              "#fb9f3a"
             ],
             [
              0.8888888888888888,
              "#fdca26"
             ],
             [
              1,
              "#f0f921"
             ]
            ],
            "type": "heatmapgl"
           }
          ],
          "histogram": [
           {
            "marker": {
             "colorbar": {
              "outlinewidth": 0,
              "ticks": ""
             }
            },
            "type": "histogram"
           }
          ],
          "histogram2d": [
           {
            "colorbar": {
             "outlinewidth": 0,
             "ticks": ""
            },
            "colorscale": [
             [
              0,
              "#0d0887"
             ],
             [
              0.1111111111111111,
              "#46039f"
             ],
             [
              0.2222222222222222,
              "#7201a8"
             ],
             [
              0.3333333333333333,
              "#9c179e"
             ],
             [
              0.4444444444444444,
              "#bd3786"
             ],
             [
              0.5555555555555556,
              "#d8576b"
             ],
             [
              0.6666666666666666,
              "#ed7953"
             ],
             [
              0.7777777777777778,
              "#fb9f3a"
             ],
             [
              0.8888888888888888,
              "#fdca26"
             ],
             [
              1,
              "#f0f921"
             ]
            ],
            "type": "histogram2d"
           }
          ],
          "histogram2dcontour": [
           {
            "colorbar": {
             "outlinewidth": 0,
             "ticks": ""
            },
            "colorscale": [
             [
              0,
              "#0d0887"
             ],
             [
              0.1111111111111111,
              "#46039f"
             ],
             [
              0.2222222222222222,
              "#7201a8"
             ],
             [
              0.3333333333333333,
              "#9c179e"
             ],
             [
              0.4444444444444444,
              "#bd3786"
             ],
             [
              0.5555555555555556,
              "#d8576b"
             ],
             [
              0.6666666666666666,
              "#ed7953"
             ],
             [
              0.7777777777777778,
              "#fb9f3a"
             ],
             [
              0.8888888888888888,
              "#fdca26"
             ],
             [
              1,
              "#f0f921"
             ]
            ],
            "type": "histogram2dcontour"
           }
          ],
          "mesh3d": [
           {
            "colorbar": {
             "outlinewidth": 0,
             "ticks": ""
            },
            "type": "mesh3d"
           }
          ],
          "parcoords": [
           {
            "line": {
             "colorbar": {
              "outlinewidth": 0,
              "ticks": ""
             }
            },
            "type": "parcoords"
           }
          ],
          "pie": [
           {
            "automargin": true,
            "type": "pie"
           }
          ],
          "scatter": [
           {
            "marker": {
             "colorbar": {
              "outlinewidth": 0,
              "ticks": ""
             }
            },
            "type": "scatter"
           }
          ],
          "scatter3d": [
           {
            "line": {
             "colorbar": {
              "outlinewidth": 0,
              "ticks": ""
             }
            },
            "marker": {
             "colorbar": {
              "outlinewidth": 0,
              "ticks": ""
             }
            },
            "type": "scatter3d"
           }
          ],
          "scattercarpet": [
           {
            "marker": {
             "colorbar": {
              "outlinewidth": 0,
              "ticks": ""
             }
            },
            "type": "scattercarpet"
           }
          ],
          "scattergeo": [
           {
            "marker": {
             "colorbar": {
              "outlinewidth": 0,
              "ticks": ""
             }
            },
            "type": "scattergeo"
           }
          ],
          "scattergl": [
           {
            "marker": {
             "colorbar": {
              "outlinewidth": 0,
              "ticks": ""
             }
            },
            "type": "scattergl"
           }
          ],
          "scattermapbox": [
           {
            "marker": {
             "colorbar": {
              "outlinewidth": 0,
              "ticks": ""
             }
            },
            "type": "scattermapbox"
           }
          ],
          "scatterpolar": [
           {
            "marker": {
             "colorbar": {
              "outlinewidth": 0,
              "ticks": ""
             }
            },
            "type": "scatterpolar"
           }
          ],
          "scatterpolargl": [
           {
            "marker": {
             "colorbar": {
              "outlinewidth": 0,
              "ticks": ""
             }
            },
            "type": "scatterpolargl"
           }
          ],
          "scatterternary": [
           {
            "marker": {
             "colorbar": {
              "outlinewidth": 0,
              "ticks": ""
             }
            },
            "type": "scatterternary"
           }
          ],
          "surface": [
           {
            "colorbar": {
             "outlinewidth": 0,
             "ticks": ""
            },
            "colorscale": [
             [
              0,
              "#0d0887"
             ],
             [
              0.1111111111111111,
              "#46039f"
             ],
             [
              0.2222222222222222,
              "#7201a8"
             ],
             [
              0.3333333333333333,
              "#9c179e"
             ],
             [
              0.4444444444444444,
              "#bd3786"
             ],
             [
              0.5555555555555556,
              "#d8576b"
             ],
             [
              0.6666666666666666,
              "#ed7953"
             ],
             [
              0.7777777777777778,
              "#fb9f3a"
             ],
             [
              0.8888888888888888,
              "#fdca26"
             ],
             [
              1,
              "#f0f921"
             ]
            ],
            "type": "surface"
           }
          ],
          "table": [
           {
            "cells": {
             "fill": {
              "color": "#EBF0F8"
             },
             "line": {
              "color": "white"
             }
            },
            "header": {
             "fill": {
              "color": "#C8D4E3"
             },
             "line": {
              "color": "white"
             }
            },
            "type": "table"
           }
          ]
         },
         "layout": {
          "annotationdefaults": {
           "arrowcolor": "#2a3f5f",
           "arrowhead": 0,
           "arrowwidth": 1
          },
          "coloraxis": {
           "colorbar": {
            "outlinewidth": 0,
            "ticks": ""
           }
          },
          "colorscale": {
           "diverging": [
            [
             0,
             "#8e0152"
            ],
            [
             0.1,
             "#c51b7d"
            ],
            [
             0.2,
             "#de77ae"
            ],
            [
             0.3,
             "#f1b6da"
            ],
            [
             0.4,
             "#fde0ef"
            ],
            [
             0.5,
             "#f7f7f7"
            ],
            [
             0.6,
             "#e6f5d0"
            ],
            [
             0.7,
             "#b8e186"
            ],
            [
             0.8,
             "#7fbc41"
            ],
            [
             0.9,
             "#4d9221"
            ],
            [
             1,
             "#276419"
            ]
           ],
           "sequential": [
            [
             0,
             "#0d0887"
            ],
            [
             0.1111111111111111,
             "#46039f"
            ],
            [
             0.2222222222222222,
             "#7201a8"
            ],
            [
             0.3333333333333333,
             "#9c179e"
            ],
            [
             0.4444444444444444,
             "#bd3786"
            ],
            [
             0.5555555555555556,
             "#d8576b"
            ],
            [
             0.6666666666666666,
             "#ed7953"
            ],
            [
             0.7777777777777778,
             "#fb9f3a"
            ],
            [
             0.8888888888888888,
             "#fdca26"
            ],
            [
             1,
             "#f0f921"
            ]
           ],
           "sequentialminus": [
            [
             0,
             "#0d0887"
            ],
            [
             0.1111111111111111,
             "#46039f"
            ],
            [
             0.2222222222222222,
             "#7201a8"
            ],
            [
             0.3333333333333333,
             "#9c179e"
            ],
            [
             0.4444444444444444,
             "#bd3786"
            ],
            [
             0.5555555555555556,
             "#d8576b"
            ],
            [
             0.6666666666666666,
             "#ed7953"
            ],
            [
             0.7777777777777778,
             "#fb9f3a"
            ],
            [
             0.8888888888888888,
             "#fdca26"
            ],
            [
             1,
             "#f0f921"
            ]
           ]
          },
          "colorway": [
           "#636efa",
           "#EF553B",
           "#00cc96",
           "#ab63fa",
           "#FFA15A",
           "#19d3f3",
           "#FF6692",
           "#B6E880",
           "#FF97FF",
           "#FECB52"
          ],
          "font": {
           "color": "#2a3f5f"
          },
          "geo": {
           "bgcolor": "white",
           "lakecolor": "white",
           "landcolor": "#E5ECF6",
           "showlakes": true,
           "showland": true,
           "subunitcolor": "white"
          },
          "hoverlabel": {
           "align": "left"
          },
          "hovermode": "closest",
          "mapbox": {
           "style": "light"
          },
          "paper_bgcolor": "white",
          "plot_bgcolor": "#E5ECF6",
          "polar": {
           "angularaxis": {
            "gridcolor": "white",
            "linecolor": "white",
            "ticks": ""
           },
           "bgcolor": "#E5ECF6",
           "radialaxis": {
            "gridcolor": "white",
            "linecolor": "white",
            "ticks": ""
           }
          },
          "scene": {
           "xaxis": {
            "backgroundcolor": "#E5ECF6",
            "gridcolor": "white",
            "gridwidth": 2,
            "linecolor": "white",
            "showbackground": true,
            "ticks": "",
            "zerolinecolor": "white"
           },
           "yaxis": {
            "backgroundcolor": "#E5ECF6",
            "gridcolor": "white",
            "gridwidth": 2,
            "linecolor": "white",
            "showbackground": true,
            "ticks": "",
            "zerolinecolor": "white"
           },
           "zaxis": {
            "backgroundcolor": "#E5ECF6",
            "gridcolor": "white",
            "gridwidth": 2,
            "linecolor": "white",
            "showbackground": true,
            "ticks": "",
            "zerolinecolor": "white"
           }
          },
          "shapedefaults": {
           "line": {
            "color": "#2a3f5f"
           }
          },
          "ternary": {
           "aaxis": {
            "gridcolor": "white",
            "linecolor": "white",
            "ticks": ""
           },
           "baxis": {
            "gridcolor": "white",
            "linecolor": "white",
            "ticks": ""
           },
           "bgcolor": "#E5ECF6",
           "caxis": {
            "gridcolor": "white",
            "linecolor": "white",
            "ticks": ""
           }
          },
          "title": {
           "x": 0.05
          },
          "xaxis": {
           "automargin": true,
           "gridcolor": "white",
           "linecolor": "white",
           "ticks": "",
           "title": {
            "standoff": 15
           },
           "zerolinecolor": "white",
           "zerolinewidth": 2
          },
          "yaxis": {
           "automargin": true,
           "gridcolor": "white",
           "linecolor": "white",
           "ticks": "",
           "title": {
            "standoff": 15
           },
           "zerolinecolor": "white",
           "zerolinewidth": 2
          }
         }
        },
        "title": {
         "text": "Comparing Cost-of-Living-Adjusted Starting Median Salary to Mid-Career Median Salary"
        },
        "width": 850,
        "xaxis": {
         "title": {
          "text": "Region"
         }
        },
        "yaxis": {
         "anchor": "x",
         "range": [
          30000,
          90000
         ],
         "title": {
          "text": "Median Salary [$]"
         }
        },
        "yaxis2": {
         "anchor": "x",
         "overlaying": "y",
         "range": [
          0.6,
          1
         ],
         "side": "right",
         "tickfont": {
          "color": "rgb(148, 103, 189)"
         },
         "title": {
          "font": {
           "color": "rgb(148, 103, 189)"
          },
          "text": "Change [%]"
         }
        }
       }
      },
      "text/html": [
       "<div>\n",
       "        \n",
       "        \n",
       "            <div id=\"4449e5f1-20b6-4638-b37e-ea1a8e94c693\" class=\"plotly-graph-div\" style=\"height:500px; width:850px;\"></div>\n",
       "            <script type=\"text/javascript\">\n",
       "                require([\"plotly\"], function(Plotly) {\n",
       "                    window.PLOTLYENV=window.PLOTLYENV || {};\n",
       "                    \n",
       "                if (document.getElementById(\"4449e5f1-20b6-4638-b37e-ea1a8e94c693\")) {\n",
       "                    Plotly.newPlot(\n",
       "                        '4449e5f1-20b6-4638-b37e-ea1a8e94c693',\n",
       "                        [{\"marker\": {\"color\": \"rgba(55, 128, 191, 0.7)\", \"line\": {\"color\": \"rgba(55, 128, 191, 1.0)\", \"width\": 2}}, \"name\": \"Starting\", \"type\": \"bar\", \"x\": [\"Northeastern\", \"California\", \"Midwestern\", \"Southern\", \"Western\"], \"y\": [45929.4372838398, 47024.066259691666, 47399.78442510455, 46056.69950750991, 42363.48458711306]}, {\"marker\": {\"color\": \"rgba(219, 64, 82, 0.7)\", \"line\": {\"color\": \"rgba(219, 64, 82, 1.0)\", \"width\": 2}}, \"name\": \"Mid-Career\", \"type\": \"bar\", \"x\": [\"Northeastern\", \"California\", \"Midwestern\", \"Southern\", \"Western\"], \"y\": [86517.36132368304, 85817.52227965424, 83791.95012320713, 82246.53813735898, 74589.16520741618]}, {\"marker\": {\"size\": 15, \"symbol\": \"hexagon-dot\"}, \"mode\": \"markers\", \"name\": \"Percent change\", \"type\": \"scatter\", \"x\": [\"Northeastern\", \"California\", \"Midwestern\", \"Southern\", \"Western\"], \"y\": [0.8839995754932088, 0.8281458828891779, 0.7623614255308193, 0.7786275686362066, 0.7604522558654189], \"yaxis\": \"y2\"}],\n",
       "                        {\"barmode\": \"group\", \"height\": 500, \"margin\": {\"b\": 120, \"l\": 75, \"pad\": 10, \"r\": 75, \"t\": 80}, \"paper_bgcolor\": \"rgb(244, 238, 225)\", \"plot_bgcolor\": \"rgb(244, 238, 225)\", \"showlegend\": true, \"template\": {\"data\": {\"bar\": [{\"error_x\": {\"color\": \"#2a3f5f\"}, \"error_y\": {\"color\": \"#2a3f5f\"}, \"marker\": {\"line\": {\"color\": \"#E5ECF6\", \"width\": 0.5}}, \"type\": \"bar\"}], \"barpolar\": [{\"marker\": {\"line\": {\"color\": \"#E5ECF6\", \"width\": 0.5}}, \"type\": \"barpolar\"}], \"carpet\": [{\"aaxis\": {\"endlinecolor\": \"#2a3f5f\", \"gridcolor\": \"white\", \"linecolor\": \"white\", \"minorgridcolor\": \"white\", \"startlinecolor\": \"#2a3f5f\"}, \"baxis\": {\"endlinecolor\": \"#2a3f5f\", \"gridcolor\": \"white\", \"linecolor\": \"white\", \"minorgridcolor\": \"white\", \"startlinecolor\": \"#2a3f5f\"}, \"type\": \"carpet\"}], \"choropleth\": [{\"colorbar\": {\"outlinewidth\": 0, \"ticks\": \"\"}, \"type\": \"choropleth\"}], \"contour\": [{\"colorbar\": {\"outlinewidth\": 0, \"ticks\": \"\"}, \"colorscale\": [[0.0, \"#0d0887\"], [0.1111111111111111, \"#46039f\"], [0.2222222222222222, \"#7201a8\"], [0.3333333333333333, \"#9c179e\"], [0.4444444444444444, \"#bd3786\"], [0.5555555555555556, \"#d8576b\"], [0.6666666666666666, \"#ed7953\"], [0.7777777777777778, \"#fb9f3a\"], [0.8888888888888888, \"#fdca26\"], [1.0, \"#f0f921\"]], \"type\": \"contour\"}], \"contourcarpet\": [{\"colorbar\": {\"outlinewidth\": 0, \"ticks\": \"\"}, \"type\": \"contourcarpet\"}], \"heatmap\": [{\"colorbar\": {\"outlinewidth\": 0, \"ticks\": \"\"}, \"colorscale\": [[0.0, \"#0d0887\"], [0.1111111111111111, \"#46039f\"], [0.2222222222222222, \"#7201a8\"], [0.3333333333333333, \"#9c179e\"], [0.4444444444444444, \"#bd3786\"], [0.5555555555555556, \"#d8576b\"], [0.6666666666666666, \"#ed7953\"], [0.7777777777777778, \"#fb9f3a\"], [0.8888888888888888, \"#fdca26\"], [1.0, \"#f0f921\"]], \"type\": \"heatmap\"}], \"heatmapgl\": [{\"colorbar\": {\"outlinewidth\": 0, \"ticks\": \"\"}, \"colorscale\": [[0.0, \"#0d0887\"], [0.1111111111111111, \"#46039f\"], [0.2222222222222222, \"#7201a8\"], [0.3333333333333333, \"#9c179e\"], [0.4444444444444444, \"#bd3786\"], [0.5555555555555556, \"#d8576b\"], [0.6666666666666666, \"#ed7953\"], [0.7777777777777778, \"#fb9f3a\"], [0.8888888888888888, \"#fdca26\"], [1.0, \"#f0f921\"]], \"type\": \"heatmapgl\"}], \"histogram\": [{\"marker\": {\"colorbar\": {\"outlinewidth\": 0, \"ticks\": \"\"}}, \"type\": \"histogram\"}], \"histogram2d\": [{\"colorbar\": {\"outlinewidth\": 0, \"ticks\": \"\"}, \"colorscale\": [[0.0, \"#0d0887\"], [0.1111111111111111, \"#46039f\"], [0.2222222222222222, \"#7201a8\"], [0.3333333333333333, \"#9c179e\"], [0.4444444444444444, \"#bd3786\"], [0.5555555555555556, \"#d8576b\"], [0.6666666666666666, \"#ed7953\"], [0.7777777777777778, \"#fb9f3a\"], [0.8888888888888888, \"#fdca26\"], [1.0, \"#f0f921\"]], \"type\": \"histogram2d\"}], \"histogram2dcontour\": [{\"colorbar\": {\"outlinewidth\": 0, \"ticks\": \"\"}, \"colorscale\": [[0.0, \"#0d0887\"], [0.1111111111111111, \"#46039f\"], [0.2222222222222222, \"#7201a8\"], [0.3333333333333333, \"#9c179e\"], [0.4444444444444444, \"#bd3786\"], [0.5555555555555556, \"#d8576b\"], [0.6666666666666666, \"#ed7953\"], [0.7777777777777778, \"#fb9f3a\"], [0.8888888888888888, \"#fdca26\"], [1.0, \"#f0f921\"]], \"type\": \"histogram2dcontour\"}], \"mesh3d\": [{\"colorbar\": {\"outlinewidth\": 0, \"ticks\": \"\"}, \"type\": \"mesh3d\"}], \"parcoords\": [{\"line\": {\"colorbar\": {\"outlinewidth\": 0, \"ticks\": \"\"}}, \"type\": \"parcoords\"}], \"pie\": [{\"automargin\": true, \"type\": \"pie\"}], \"scatter\": [{\"marker\": {\"colorbar\": {\"outlinewidth\": 0, \"ticks\": \"\"}}, \"type\": \"scatter\"}], \"scatter3d\": [{\"line\": {\"colorbar\": {\"outlinewidth\": 0, \"ticks\": \"\"}}, \"marker\": {\"colorbar\": {\"outlinewidth\": 0, \"ticks\": \"\"}}, \"type\": \"scatter3d\"}], \"scattercarpet\": [{\"marker\": {\"colorbar\": {\"outlinewidth\": 0, \"ticks\": \"\"}}, \"type\": \"scattercarpet\"}], \"scattergeo\": [{\"marker\": {\"colorbar\": {\"outlinewidth\": 0, \"ticks\": \"\"}}, \"type\": \"scattergeo\"}], \"scattergl\": [{\"marker\": {\"colorbar\": {\"outlinewidth\": 0, \"ticks\": \"\"}}, \"type\": \"scattergl\"}], \"scattermapbox\": [{\"marker\": {\"colorbar\": {\"outlinewidth\": 0, \"ticks\": \"\"}}, \"type\": \"scattermapbox\"}], \"scatterpolar\": [{\"marker\": {\"colorbar\": {\"outlinewidth\": 0, \"ticks\": \"\"}}, \"type\": \"scatterpolar\"}], \"scatterpolargl\": [{\"marker\": {\"colorbar\": {\"outlinewidth\": 0, \"ticks\": \"\"}}, \"type\": \"scatterpolargl\"}], \"scatterternary\": [{\"marker\": {\"colorbar\": {\"outlinewidth\": 0, \"ticks\": \"\"}}, \"type\": \"scatterternary\"}], \"surface\": [{\"colorbar\": {\"outlinewidth\": 0, \"ticks\": \"\"}, \"colorscale\": [[0.0, \"#0d0887\"], [0.1111111111111111, \"#46039f\"], [0.2222222222222222, \"#7201a8\"], [0.3333333333333333, \"#9c179e\"], [0.4444444444444444, \"#bd3786\"], [0.5555555555555556, \"#d8576b\"], [0.6666666666666666, \"#ed7953\"], [0.7777777777777778, \"#fb9f3a\"], [0.8888888888888888, \"#fdca26\"], [1.0, \"#f0f921\"]], \"type\": \"surface\"}], \"table\": [{\"cells\": {\"fill\": {\"color\": \"#EBF0F8\"}, \"line\": {\"color\": \"white\"}}, \"header\": {\"fill\": {\"color\": \"#C8D4E3\"}, \"line\": {\"color\": \"white\"}}, \"type\": \"table\"}]}, \"layout\": {\"annotationdefaults\": {\"arrowcolor\": \"#2a3f5f\", \"arrowhead\": 0, \"arrowwidth\": 1}, \"coloraxis\": {\"colorbar\": {\"outlinewidth\": 0, \"ticks\": \"\"}}, \"colorscale\": {\"diverging\": [[0, \"#8e0152\"], [0.1, \"#c51b7d\"], [0.2, \"#de77ae\"], [0.3, \"#f1b6da\"], [0.4, \"#fde0ef\"], [0.5, \"#f7f7f7\"], [0.6, \"#e6f5d0\"], [0.7, \"#b8e186\"], [0.8, \"#7fbc41\"], [0.9, \"#4d9221\"], [1, \"#276419\"]], \"sequential\": [[0.0, \"#0d0887\"], [0.1111111111111111, \"#46039f\"], [0.2222222222222222, \"#7201a8\"], [0.3333333333333333, \"#9c179e\"], [0.4444444444444444, \"#bd3786\"], [0.5555555555555556, \"#d8576b\"], [0.6666666666666666, \"#ed7953\"], [0.7777777777777778, \"#fb9f3a\"], [0.8888888888888888, \"#fdca26\"], [1.0, \"#f0f921\"]], \"sequentialminus\": [[0.0, \"#0d0887\"], [0.1111111111111111, \"#46039f\"], [0.2222222222222222, \"#7201a8\"], [0.3333333333333333, \"#9c179e\"], [0.4444444444444444, \"#bd3786\"], [0.5555555555555556, \"#d8576b\"], [0.6666666666666666, \"#ed7953\"], [0.7777777777777778, \"#fb9f3a\"], [0.8888888888888888, \"#fdca26\"], [1.0, \"#f0f921\"]]}, \"colorway\": [\"#636efa\", \"#EF553B\", \"#00cc96\", \"#ab63fa\", \"#FFA15A\", \"#19d3f3\", \"#FF6692\", \"#B6E880\", \"#FF97FF\", \"#FECB52\"], \"font\": {\"color\": \"#2a3f5f\"}, \"geo\": {\"bgcolor\": \"white\", \"lakecolor\": \"white\", \"landcolor\": \"#E5ECF6\", \"showlakes\": true, \"showland\": true, \"subunitcolor\": \"white\"}, \"hoverlabel\": {\"align\": \"left\"}, \"hovermode\": \"closest\", \"mapbox\": {\"style\": \"light\"}, \"paper_bgcolor\": \"white\", \"plot_bgcolor\": \"#E5ECF6\", \"polar\": {\"angularaxis\": {\"gridcolor\": \"white\", \"linecolor\": \"white\", \"ticks\": \"\"}, \"bgcolor\": \"#E5ECF6\", \"radialaxis\": {\"gridcolor\": \"white\", \"linecolor\": \"white\", \"ticks\": \"\"}}, \"scene\": {\"xaxis\": {\"backgroundcolor\": \"#E5ECF6\", \"gridcolor\": \"white\", \"gridwidth\": 2, \"linecolor\": \"white\", \"showbackground\": true, \"ticks\": \"\", \"zerolinecolor\": \"white\"}, \"yaxis\": {\"backgroundcolor\": \"#E5ECF6\", \"gridcolor\": \"white\", \"gridwidth\": 2, \"linecolor\": \"white\", \"showbackground\": true, \"ticks\": \"\", \"zerolinecolor\": \"white\"}, \"zaxis\": {\"backgroundcolor\": \"#E5ECF6\", \"gridcolor\": \"white\", \"gridwidth\": 2, \"linecolor\": \"white\", \"showbackground\": true, \"ticks\": \"\", \"zerolinecolor\": \"white\"}}, \"shapedefaults\": {\"line\": {\"color\": \"#2a3f5f\"}}, \"ternary\": {\"aaxis\": {\"gridcolor\": \"white\", \"linecolor\": \"white\", \"ticks\": \"\"}, \"baxis\": {\"gridcolor\": \"white\", \"linecolor\": \"white\", \"ticks\": \"\"}, \"bgcolor\": \"#E5ECF6\", \"caxis\": {\"gridcolor\": \"white\", \"linecolor\": \"white\", \"ticks\": \"\"}}, \"title\": {\"x\": 0.05}, \"xaxis\": {\"automargin\": true, \"gridcolor\": \"white\", \"linecolor\": \"white\", \"ticks\": \"\", \"title\": {\"standoff\": 15}, \"zerolinecolor\": \"white\", \"zerolinewidth\": 2}, \"yaxis\": {\"automargin\": true, \"gridcolor\": \"white\", \"linecolor\": \"white\", \"ticks\": \"\", \"title\": {\"standoff\": 15}, \"zerolinecolor\": \"white\", \"zerolinewidth\": 2}}}, \"title\": {\"text\": \"Comparing Cost-of-Living-Adjusted Starting Median Salary to Mid-Career Median Salary\"}, \"width\": 850, \"xaxis\": {\"title\": {\"text\": \"Region\"}}, \"yaxis\": {\"anchor\": \"x\", \"range\": [30000, 90000], \"title\": {\"text\": \"Median Salary [$]\"}}, \"yaxis2\": {\"anchor\": \"x\", \"overlaying\": \"y\", \"range\": [0.6, 1], \"side\": \"right\", \"tickfont\": {\"color\": \"rgb(148, 103, 189)\"}, \"title\": {\"font\": {\"color\": \"rgb(148, 103, 189)\"}, \"text\": \"Change [%]\"}}},\n",
       "                        {\"responsive\": true}\n",
       "                    ).then(function(){\n",
       "                            \n",
       "var gd = document.getElementById('4449e5f1-20b6-4638-b37e-ea1a8e94c693');\n",
       "var x = new MutationObserver(function (mutations, observer) {{\n",
       "        var display = window.getComputedStyle(gd).display;\n",
       "        if (!display || display === 'none') {{\n",
       "            console.log([gd, 'removed!']);\n",
       "            Plotly.purge(gd);\n",
       "            observer.disconnect();\n",
       "        }}\n",
       "}});\n",
       "\n",
       "// Listen for the removal of the full notebook cells\n",
       "var notebookContainer = gd.closest('#notebook-container');\n",
       "if (notebookContainer) {{\n",
       "    x.observe(notebookContainer, {childList: true});\n",
       "}}\n",
       "\n",
       "// Listen for the clearing of the current output cell\n",
       "var outputEl = gd.closest('.output');\n",
       "if (outputEl) {{\n",
       "    x.observe(outputEl, {childList: true});\n",
       "}}\n",
       "\n",
       "                        })\n",
       "                };\n",
       "                });\n",
       "            </script>\n",
       "        </div>"
      ]
     },
     "metadata": {},
     "output_type": "display_data"
    }
   ],
   "source": [
    "trace1 = go.Bar(\n",
    "    #base = regions,\n",
    "    x = regions,\n",
    "    y = region_start,\n",
    "    name='Starting',\n",
    "    marker=dict(\n",
    "        color='rgba(55, 128, 191, 0.7)',\n",
    "        line=dict(\n",
    "            color='rgba(55, 128, 191, 1.0)',\n",
    "            width=2,\n",
    "        )\n",
    "    )\n",
    ")\n",
    "trace2 = go.Bar(\n",
    "    x = regions,\n",
    "    y = region_mid,\n",
    "    #base = region_mid,\n",
    "    name='Mid-Career',\n",
    "    marker=dict(\n",
    "        color='rgba(219, 64, 82, 0.7)',\n",
    "        line=dict(\n",
    "            color='rgba(219, 64, 82, 1.0)',\n",
    "            width=2,\n",
    "        )\n",
    "    )\n",
    ")\n",
    "\n",
    "trace3 = go.Scatter(\n",
    "    x = regions,\n",
    "    y = region_changeadj,\n",
    "    name='Percent change',\n",
    "    mode = 'markers',\n",
    "    marker=dict(\n",
    "        symbol=\"hexagon-dot\",\n",
    "       size=15\n",
    "   ),\n",
    "    yaxis='y2'\n",
    ")\n",
    "\n",
    "data = [trace1, trace2, trace3]\n",
    "layout = go.Layout(\n",
    "    barmode='group',\n",
    "    title = 'Comparing Cost-of-Living-Adjusted Starting Median Salary to Mid-Career Median Salary',\n",
    "    width=850,\n",
    "    height=500,\n",
    "    margin=go.Margin(\n",
    "        l=75,\n",
    "        r=75,\n",
    "        b=120,\n",
    "        t=80,\n",
    "        pad=10\n",
    "    ),\n",
    "    paper_bgcolor='rgb(244, 238, 225)',\n",
    "    plot_bgcolor='rgb(244, 238, 225)',\n",
    "    yaxis = dict(\n",
    "        title= 'Median Salary [$]',\n",
    "        anchor = 'x',\n",
    "        range = (30000, 90000),\n",
    "    ),   \n",
    "    yaxis2=dict(\n",
    "        title='Change [%]',\n",
    "        titlefont=dict(\n",
    "            color='rgb(148, 103, 189)'\n",
    "        ),\n",
    "        tickfont=dict(\n",
    "            color='rgb(148, 103, 189)'\n",
    "        ),\n",
    "        overlaying='y',\n",
    "        side='right',\n",
    "        anchor = 'x',\n",
    "        range = (0.60, 1),\n",
    "        \n",
    "    ),\n",
    "    xaxis=dict(\n",
    "    title='Region'),\n",
    "    \n",
    "showlegend=True\n",
    ")\n",
    "\n",
    "fig = go.Figure(data=data, layout=layout)\n",
    "py.iplot(fig)"
   ]
  },
  {
   "cell_type": "code",
   "execution_count": 364,
   "metadata": {},
   "outputs": [],
   "source": [
    "regions = region_sort.index  #('California', 'Northeastern', 'Midwestern', 'Southern', 'Western')"
   ]
  },
  {
   "cell_type": "code",
   "execution_count": 366,
   "metadata": {},
   "outputs": [],
   "source": [
    "adj_comparison = pd.DataFrame\n",
    "adj_comparison = region_mean"
   ]
  },
  {
   "cell_type": "code",
   "execution_count": 367,
   "metadata": {},
   "outputs": [],
   "source": [
    "del adj_comparison['start_med'] \n",
    "del adj_comparison['mid_med']\n",
    "del adj_comparison['mid_10']\n",
    "del adj_comparison['mid_25']\n",
    "del adj_comparison['mid_75']\n",
    "del adj_comparison['mid_90']\n",
    "del adj_comparison['mid10_adj']\n",
    "del adj_comparison['mid25_adj']\n",
    "del adj_comparison['mid75_adj']\n",
    "del adj_comparison['mid90_adj']\n",
    "del adj_comparison['change']"
   ]
  },
  {
   "cell_type": "code",
   "execution_count": 368,
   "metadata": {},
   "outputs": [
    {
     "data": {
      "text/html": [
       "<div>\n",
       "<style scoped>\n",
       "    .dataframe tbody tr th:only-of-type {\n",
       "        vertical-align: middle;\n",
       "    }\n",
       "\n",
       "    .dataframe tbody tr th {\n",
       "        vertical-align: top;\n",
       "    }\n",
       "\n",
       "    .dataframe thead th {\n",
       "        text-align: right;\n",
       "    }\n",
       "</style>\n",
       "<table border=\"1\" class=\"dataframe\">\n",
       "  <thead>\n",
       "    <tr style=\"text-align: right;\">\n",
       "      <th></th>\n",
       "      <th>CPI</th>\n",
       "      <th>start_adj</th>\n",
       "      <th>midmed_adj</th>\n",
       "      <th>change_adj</th>\n",
       "    </tr>\n",
       "    <tr>\n",
       "      <th>region</th>\n",
       "      <th></th>\n",
       "      <th></th>\n",
       "      <th></th>\n",
       "      <th></th>\n",
       "    </tr>\n",
       "  </thead>\n",
       "  <tbody>\n",
       "    <tr>\n",
       "      <th>California</th>\n",
       "      <td>272.510</td>\n",
       "      <td>47024.066260</td>\n",
       "      <td>85817.522280</td>\n",
       "      <td>0.828146</td>\n",
       "    </tr>\n",
       "    <tr>\n",
       "      <th>Midwestern</th>\n",
       "      <td>234.290</td>\n",
       "      <td>47399.784425</td>\n",
       "      <td>83791.950123</td>\n",
       "      <td>0.762361</td>\n",
       "    </tr>\n",
       "    <tr>\n",
       "      <th>Northeastern</th>\n",
       "      <td>265.139</td>\n",
       "      <td>45929.437284</td>\n",
       "      <td>86517.361324</td>\n",
       "      <td>0.884000</td>\n",
       "    </tr>\n",
       "    <tr>\n",
       "      <th>Southern</th>\n",
       "      <td>242.737</td>\n",
       "      <td>46056.699508</td>\n",
       "      <td>82246.538137</td>\n",
       "      <td>0.778628</td>\n",
       "    </tr>\n",
       "    <tr>\n",
       "      <th>Western</th>\n",
       "      <td>263.263</td>\n",
       "      <td>42363.484587</td>\n",
       "      <td>74589.165207</td>\n",
       "      <td>0.760452</td>\n",
       "    </tr>\n",
       "  </tbody>\n",
       "</table>\n",
       "</div>"
      ],
      "text/plain": [
       "                  CPI     start_adj    midmed_adj  change_adj\n",
       "region                                                       \n",
       "California    272.510  47024.066260  85817.522280    0.828146\n",
       "Midwestern    234.290  47399.784425  83791.950123    0.762361\n",
       "Northeastern  265.139  45929.437284  86517.361324    0.884000\n",
       "Southern      242.737  46056.699508  82246.538137    0.778628\n",
       "Western       263.263  42363.484587  74589.165207    0.760452"
      ]
     },
     "execution_count": 368,
     "metadata": {},
     "output_type": "execute_result"
    }
   ],
   "source": [
    "adj_comparison"
   ]
  },
  {
   "cell_type": "code",
   "execution_count": 369,
   "metadata": {},
   "outputs": [],
   "source": [
    "adj_comparison['net_gain'] = adj_comparison['midmed_adj'] - adj_comparison['start_adj']"
   ]
  },
  {
   "cell_type": "code",
   "execution_count": 370,
   "metadata": {},
   "outputs": [
    {
     "data": {
      "text/html": [
       "<div>\n",
       "<style scoped>\n",
       "    .dataframe tbody tr th:only-of-type {\n",
       "        vertical-align: middle;\n",
       "    }\n",
       "\n",
       "    .dataframe tbody tr th {\n",
       "        vertical-align: top;\n",
       "    }\n",
       "\n",
       "    .dataframe thead th {\n",
       "        text-align: right;\n",
       "    }\n",
       "</style>\n",
       "<table border=\"1\" class=\"dataframe\">\n",
       "  <thead>\n",
       "    <tr style=\"text-align: right;\">\n",
       "      <th></th>\n",
       "      <th>CPI</th>\n",
       "      <th>start_adj</th>\n",
       "      <th>midmed_adj</th>\n",
       "      <th>change_adj</th>\n",
       "      <th>net_gain</th>\n",
       "    </tr>\n",
       "    <tr>\n",
       "      <th>region</th>\n",
       "      <th></th>\n",
       "      <th></th>\n",
       "      <th></th>\n",
       "      <th></th>\n",
       "      <th></th>\n",
       "    </tr>\n",
       "  </thead>\n",
       "  <tbody>\n",
       "    <tr>\n",
       "      <th>California</th>\n",
       "      <td>272.510</td>\n",
       "      <td>47024.066260</td>\n",
       "      <td>85817.522280</td>\n",
       "      <td>0.828146</td>\n",
       "      <td>38793.456020</td>\n",
       "    </tr>\n",
       "    <tr>\n",
       "      <th>Midwestern</th>\n",
       "      <td>234.290</td>\n",
       "      <td>47399.784425</td>\n",
       "      <td>83791.950123</td>\n",
       "      <td>0.762361</td>\n",
       "      <td>36392.165698</td>\n",
       "    </tr>\n",
       "    <tr>\n",
       "      <th>Northeastern</th>\n",
       "      <td>265.139</td>\n",
       "      <td>45929.437284</td>\n",
       "      <td>86517.361324</td>\n",
       "      <td>0.884000</td>\n",
       "      <td>40587.924040</td>\n",
       "    </tr>\n",
       "    <tr>\n",
       "      <th>Southern</th>\n",
       "      <td>242.737</td>\n",
       "      <td>46056.699508</td>\n",
       "      <td>82246.538137</td>\n",
       "      <td>0.778628</td>\n",
       "      <td>36189.838630</td>\n",
       "    </tr>\n",
       "    <tr>\n",
       "      <th>Western</th>\n",
       "      <td>263.263</td>\n",
       "      <td>42363.484587</td>\n",
       "      <td>74589.165207</td>\n",
       "      <td>0.760452</td>\n",
       "      <td>32225.680620</td>\n",
       "    </tr>\n",
       "  </tbody>\n",
       "</table>\n",
       "</div>"
      ],
      "text/plain": [
       "                  CPI     start_adj    midmed_adj  change_adj      net_gain\n",
       "region                                                                     \n",
       "California    272.510  47024.066260  85817.522280    0.828146  38793.456020\n",
       "Midwestern    234.290  47399.784425  83791.950123    0.762361  36392.165698\n",
       "Northeastern  265.139  45929.437284  86517.361324    0.884000  40587.924040\n",
       "Southern      242.737  46056.699508  82246.538137    0.778628  36189.838630\n",
       "Western       263.263  42363.484587  74589.165207    0.760452  32225.680620"
      ]
     },
     "execution_count": 370,
     "metadata": {},
     "output_type": "execute_result"
    }
   ],
   "source": [
    "adj_comparison"
   ]
  },
  {
   "cell_type": "code",
   "execution_count": null,
   "metadata": {},
   "outputs": [],
   "source": []
  },
  {
   "cell_type": "code",
   "execution_count": 208,
   "metadata": {},
   "outputs": [
    {
     "data": {
      "image/png": "[encoded data removed]",
      "text/plain": [
       "<Figure size 1440x720 with 1 Axes>"
      ]
     },
     "metadata": {
      "needs_background": "light"
     },
     "output_type": "display_data"
    }
   ],
   "source": [
    "plt.figure(figsize=(20, 10))\n",
    "\n",
    "ax1 = plt.subplot(2,1,1)\n",
    "x = [x for x in range(0, 5)]\n",
    "xticks_region_list = regions\n",
    "y = region_sort['midmed_adj']\n",
    "plt.xticks(range(len(x)), xticks_region_list)\n",
    "plt.scatter(x,y, color='g')\n",
    "plt.autoscale(tight=False)\n",
    "plt.title('Inflation-Adjusted Mid-Career Median Earnings by College Region')\n",
    "plt.xlabel('Region')\n",
    "plt.ylabel('Relative Earnings')\n",
    "plt.grid(True)\n",
    "\n",
    "\n",
    "for i,j in enumerate( y ):\n",
    "    ax1.annotate( j, ( x[i] + 0.06, y[i] + 0.03))\n",
    "\n",
    "plt.show()"
   ]
  },
  {
   "cell_type": "code",
   "execution_count": 223,
   "metadata": {
    "scrolled": true
   },
   "outputs": [
    {
     "data": {
      "image/png": "[encoded data removed]",
      "text/plain": [
       "<Figure size 1440x720 with 1 Axes>"
      ]
     },
     "metadata": {
      "needs_background": "light"
     },
     "output_type": "display_data"
    }
   ],
   "source": [
    "plt.figure(figsize=(20, 10))\n",
    "\n",
    "ax1 = plt.subplot(2,1,1)\n",
    "x = [x for x in range(0, 5)]\n",
    "xticks_region_list = regions\n",
    "y = region_sort['midmed_adj']\n",
    "a = region_sort['start_adj']\n",
    "plt.xticks(range(len(x)), xticks_region_list)\n",
    "plt.scatter(x,y, color='g')\n",
    "plt.autoscale(tight=False)\n",
    "plt.title('Inflation-Adjusted Starting & Mid-Career Median Earnings by College Region')\n",
    "plt.xlabel('Region')\n",
    "plt.ylabel('Relative Earnings (in 1982 - 1984 Dollars)')\n",
    "plt.grid(True)\n",
    "\n",
    "plt.scatter(x,a, color='r')\n",
    "\n",
    "\n",
    "for i,j in enumerate( y ):\n",
    "    ax1.annotate( j, ( x[i] + 0.06, y[i] + 0.03))\n",
    "    \n",
    "for k,l in enumerate( a ):\n",
    "    ax1.annotate( l, ( x[k] + 0.06, a[k] + 0.03))\n",
    "\n",
    "\n",
    "plt.show()"
   ]
  }
 ],
 "metadata": {
  "kernelspec": {
   "display_name": "Python 3",
   "language": "python",
   "name": "python3"
  },
  "language_info": {
   "codemirror_mode": {
    "name": "ipython",
    "version": 3
   },
   "file_extension": ".py",
   "mimetype": "text/x-python",
   "name": "python",
   "nbconvert_exporter": "python",
   "pygments_lexer": "ipython3",
   "version": "3.7.3"
  }
 },
 "nbformat": 4,
 "nbformat_minor": 2
}
